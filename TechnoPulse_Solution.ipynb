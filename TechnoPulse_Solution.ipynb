{
  "nbformat": 4,
  "nbformat_minor": 0,
  "metadata": {
    "colab": {
      "name": "TechnoPulse_Solution.ipynb",
      "provenance": [],
      "collapsed_sections": [],
      "authorship_tag": "ABX9TyONaNJ6N324LFSMDV3vjK0B",
      "include_colab_link": true
    },
    "kernelspec": {
      "name": "python3",
      "display_name": "Python 3"
    },
    "accelerator": "GPU"
  },
  "cells": [
    {
      "cell_type": "markdown",
      "metadata": {
        "id": "view-in-github",
        "colab_type": "text"
      },
      "source": [
        "<a href=\"https://colab.research.google.com/github/asrivastava0601/TechnoPulse_Competition/blob/master/TechnoPulse_Solution.ipynb\" target=\"_parent\"><img src=\"https://colab.research.google.com/assets/colab-badge.svg\" alt=\"Open In Colab\"/></a>"
      ]
    },
    {
      "cell_type": "code",
      "metadata": {
        "id": "txloggmiqyYJ",
        "colab_type": "code",
        "outputId": "fe8e74cd-547a-424b-92e2-e01b61b9d6b1",
        "colab": {
          "base_uri": "https://localhost:8080/",
          "height": 34
        }
      },
      "source": [
        "from google.colab import drive\n",
        "drive.mount('/content/gdrive')"
      ],
      "execution_count": 0,
      "outputs": [
        {
          "output_type": "stream",
          "text": [
            "Drive already mounted at /content/gdrive; to attempt to forcibly remount, call drive.mount(\"/content/gdrive\", force_remount=True).\n"
          ],
          "name": "stdout"
        }
      ]
    },
    {
      "cell_type": "code",
      "metadata": {
        "id": "b3hdSs44rNS0",
        "colab_type": "code",
        "outputId": "9b99cb4c-3320-4c08-81ca-5f0e29c8ba3e",
        "colab": {
          "base_uri": "https://localhost:8080/",
          "height": 34
        }
      },
      "source": [
        "import numpy as np\n",
        "import pandas as pd\n",
        "from keras.preprocessing import image\n",
        "from keras.utils import to_categorical\n",
        "from sklearn.model_selection import train_test_split\n",
        "from keras.models import Sequential\n",
        "from keras.layers import Dense, Dropout, Flatten\n",
        "from keras.layers import Conv2D, MaxPooling2D\n",
        "from keras.layers import AvgPool2D\n",
        "from keras.layers import BatchNormalization\n",
        "import matplotlib.pyplot as plt"
      ],
      "execution_count": 0,
      "outputs": [
        {
          "output_type": "stream",
          "text": [
            "Using TensorFlow backend.\n"
          ],
          "name": "stderr"
        }
      ]
    },
    {
      "cell_type": "code",
      "metadata": {
        "id": "K0TRNqPnrMbJ",
        "colab_type": "code",
        "colab": {}
      },
      "source": [
        "from tensorflow.keras.preprocessing.image import ImageDataGenerator\n",
        "import hashlib\n",
        "from hashlib import md5\n",
        "import os\n",
        "import random\n",
        "import shutil as sh"
      ],
      "execution_count": 0,
      "outputs": []
    },
    {
      "cell_type": "code",
      "metadata": {
        "id": "YYOAX430rqzp",
        "colab_type": "code",
        "outputId": "9dd6e6b8-5618-4513-ddb4-f2bb39ff8bde",
        "colab": {
          "base_uri": "https://localhost:8080/",
          "height": 204
        }
      },
      "source": [
        "df1 = pd.read_csv(\"/content/gdrive/My Drive/Challenge/Trainingcopy.csv\")\n",
        "\n",
        "df1.head()"
      ],
      "execution_count": 0,
      "outputs": [
        {
          "output_type": "execute_result",
          "data": {
            "text/html": [
              "<div>\n",
              "<style scoped>\n",
              "    .dataframe tbody tr th:only-of-type {\n",
              "        vertical-align: middle;\n",
              "    }\n",
              "\n",
              "    .dataframe tbody tr th {\n",
              "        vertical-align: top;\n",
              "    }\n",
              "\n",
              "    .dataframe thead th {\n",
              "        text-align: right;\n",
              "    }\n",
              "</style>\n",
              "<table border=\"1\" class=\"dataframe\">\n",
              "  <thead>\n",
              "    <tr style=\"text-align: right;\">\n",
              "      <th></th>\n",
              "      <th>file</th>\n",
              "      <th>label</th>\n",
              "    </tr>\n",
              "  </thead>\n",
              "  <tbody>\n",
              "    <tr>\n",
              "      <th>0</th>\n",
              "      <td>1</td>\n",
              "      <td>0</td>\n",
              "    </tr>\n",
              "    <tr>\n",
              "      <th>1</th>\n",
              "      <td>2</td>\n",
              "      <td>2</td>\n",
              "    </tr>\n",
              "    <tr>\n",
              "      <th>2</th>\n",
              "      <td>3</td>\n",
              "      <td>3</td>\n",
              "    </tr>\n",
              "    <tr>\n",
              "      <th>3</th>\n",
              "      <td>4</td>\n",
              "      <td>4</td>\n",
              "    </tr>\n",
              "    <tr>\n",
              "      <th>4</th>\n",
              "      <td>5</td>\n",
              "      <td>0</td>\n",
              "    </tr>\n",
              "  </tbody>\n",
              "</table>\n",
              "</div>"
            ],
            "text/plain": [
              "   file  label\n",
              "0     1      0\n",
              "1     2      2\n",
              "2     3      3\n",
              "3     4      4\n",
              "4     5      0"
            ]
          },
          "metadata": {
            "tags": []
          },
          "execution_count": 3
        }
      ]
    },
    {
      "cell_type": "code",
      "metadata": {
        "id": "8Z-yK2lUrq5D",
        "colab_type": "code",
        "outputId": "c4dd2781-cd53-4922-e66d-064d2a76e5ee",
        "colab": {
          "base_uri": "https://localhost:8080/",
          "height": 204
        }
      },
      "source": [
        "df1['path1'] = 'Image-'\n",
        "\n",
        "df1['jpg'] = '.jpg'\n",
        "\n",
        "df1['Image'] =  df1['path1'] + df1['file'].astype(str) + df1['jpg']\n",
        "df1 = df1.drop(['file','path1','jpg'], axis = 1)\n",
        "\n",
        "df1 = df1[['Image','label']]\n",
        "\n",
        "df1.head()"
      ],
      "execution_count": 0,
      "outputs": [
        {
          "output_type": "execute_result",
          "data": {
            "text/html": [
              "<div>\n",
              "<style scoped>\n",
              "    .dataframe tbody tr th:only-of-type {\n",
              "        vertical-align: middle;\n",
              "    }\n",
              "\n",
              "    .dataframe tbody tr th {\n",
              "        vertical-align: top;\n",
              "    }\n",
              "\n",
              "    .dataframe thead th {\n",
              "        text-align: right;\n",
              "    }\n",
              "</style>\n",
              "<table border=\"1\" class=\"dataframe\">\n",
              "  <thead>\n",
              "    <tr style=\"text-align: right;\">\n",
              "      <th></th>\n",
              "      <th>Image</th>\n",
              "      <th>label</th>\n",
              "    </tr>\n",
              "  </thead>\n",
              "  <tbody>\n",
              "    <tr>\n",
              "      <th>0</th>\n",
              "      <td>Image-1.jpg</td>\n",
              "      <td>0</td>\n",
              "    </tr>\n",
              "    <tr>\n",
              "      <th>1</th>\n",
              "      <td>Image-2.jpg</td>\n",
              "      <td>2</td>\n",
              "    </tr>\n",
              "    <tr>\n",
              "      <th>2</th>\n",
              "      <td>Image-3.jpg</td>\n",
              "      <td>3</td>\n",
              "    </tr>\n",
              "    <tr>\n",
              "      <th>3</th>\n",
              "      <td>Image-4.jpg</td>\n",
              "      <td>4</td>\n",
              "    </tr>\n",
              "    <tr>\n",
              "      <th>4</th>\n",
              "      <td>Image-5.jpg</td>\n",
              "      <td>0</td>\n",
              "    </tr>\n",
              "  </tbody>\n",
              "</table>\n",
              "</div>"
            ],
            "text/plain": [
              "         Image  label\n",
              "0  Image-1.jpg      0\n",
              "1  Image-2.jpg      2\n",
              "2  Image-3.jpg      3\n",
              "3  Image-4.jpg      4\n",
              "4  Image-5.jpg      0"
            ]
          },
          "metadata": {
            "tags": []
          },
          "execution_count": 4
        }
      ]
    },
    {
      "cell_type": "code",
      "metadata": {
        "id": "Zv5xGE-trrA2",
        "colab_type": "code",
        "outputId": "1e2d4791-9cf3-441a-88d1-53f1443a53ff",
        "colab": {
          "base_uri": "https://localhost:8080/",
          "height": 153
        }
      },
      "source": [
        "label_count = df1.groupby('label')['Image'].nunique()\n",
        "\n",
        "print(\"Class label and Image count\\n\",label_count)"
      ],
      "execution_count": 0,
      "outputs": [
        {
          "output_type": "stream",
          "text": [
            "Class label and Image count\n",
            " label\n",
            "0     892\n",
            "1     976\n",
            "2    1044\n",
            "3    1101\n",
            "4    1206\n",
            "Name: Image, dtype: int64\n"
          ],
          "name": "stdout"
        }
      ]
    },
    {
      "cell_type": "code",
      "metadata": {
        "id": "HQJD_DMuuIo0",
        "colab_type": "code",
        "outputId": "b9e8de3b-95b2-45f4-aca6-5c87546fac3a",
        "colab": {
          "base_uri": "https://localhost:8080/",
          "height": 34
        }
      },
      "source": [
        "os.getcwd()"
      ],
      "execution_count": 0,
      "outputs": [
        {
          "output_type": "execute_result",
          "data": {
            "text/plain": [
              "'/content'"
            ]
          },
          "metadata": {
            "tags": []
          },
          "execution_count": 6
        }
      ]
    },
    {
      "cell_type": "code",
      "metadata": {
        "id": "2eRn8zYrvMCh",
        "colab_type": "code",
        "outputId": "8d8edc71-5269-4304-e3f3-b41ee3a7ac16",
        "colab": {
          "base_uri": "https://localhost:8080/",
          "height": 34
        }
      },
      "source": [
        "######## Chaning the working directory #######\n",
        "os.chdir(\"/content/gdrive/My Drive/Challenge/Training_Images\")\n",
        "os.getcwd()"
      ],
      "execution_count": 0,
      "outputs": [
        {
          "output_type": "execute_result",
          "data": {
            "text/plain": [
              "'/content/gdrive/My Drive/Challenge/Training_Images'"
            ]
          },
          "metadata": {
            "tags": []
          },
          "execution_count": 7
        }
      ]
    },
    {
      "cell_type": "code",
      "metadata": {
        "id": "ttcMPQyur4ze",
        "colab_type": "code",
        "outputId": "6f4abdf4-3d83-4739-accf-822589120c79",
        "colab": {
          "base_uri": "https://localhost:8080/",
          "height": 34
        }
      },
      "source": [
        "file_list = os.listdir()\n",
        "print(\"Number of files to read: \", len(file_list))"
      ],
      "execution_count": 0,
      "outputs": [
        {
          "output_type": "stream",
          "text": [
            "Number of files to read:  5219\n"
          ],
          "name": "stdout"
        }
      ]
    },
    {
      "cell_type": "code",
      "metadata": {
        "id": "CES7DM3vrrRc",
        "colab_type": "code",
        "outputId": "dfe067d8-1204-4ad8-f74d-4fed86e0126c",
        "colab": {
          "base_uri": "https://localhost:8080/",
          "height": 34
        }
      },
      "source": [
        "####### Identify duplicate images using the hash keys ##########\n",
        "\n",
        "#original_fname = []          #uncomment to know the original file_name read and the correspoinding index.\n",
        "\n",
        "#duplicates = []              #uncomment to know the duplicate image index and original image index.\n",
        "\n",
        "duplicate_fname = []\n",
        "\n",
        "hash_keys =dict()             # Dictionary to hold hash values as Keys and index as Values for a file.\n",
        "\n",
        "from tqdm import tqdm\n",
        "\n",
        "for index, filename in tqdm(enumerate(os.listdir(\".\")), desc = 'Files' , total = len(file_list), position= 0):\n",
        "#    original_fname.append((index,filename))                #uncomment to know the original file_name read and the correspoinding index.\n",
        "  if os.path.isfile(filename):\n",
        "        with open(filename,'rb') as f:\n",
        "            filehash = hashlib.md5(f.read()).hexdigest()\n",
        "        if filehash not in hash_keys:\n",
        "            hash_keys[filehash] = index \n",
        "        else:\n",
        "            duplicate_fname.append(filename)\n",
        "            #print(\"Duplicate file:\",filename)                # uncomment to print the duplicate file name on the fly.\n",
        "            #duplicates.append((index,hash_keys[filehash]))  #uncomment to know the duplicate image index and original image index."
      ],
      "execution_count": 0,
      "outputs": [
        {
          "output_type": "stream",
          "text": [
            "Files: 100%|██████████| 5219/5219 [33:01<00:00,  2.63it/s]\n"
          ],
          "name": "stderr"
        }
      ]
    },
    {
      "cell_type": "code",
      "metadata": {
        "id": "kfVgJ3HLrrP3",
        "colab_type": "code",
        "outputId": "17dba866-92a8-4e1b-bf0f-252dd7a84512",
        "colab": {
          "base_uri": "https://localhost:8080/",
          "height": 34
        }
      },
      "source": [
        "print(\"Number of duplicate images found:\",len(duplicate_fname))"
      ],
      "execution_count": 0,
      "outputs": [
        {
          "output_type": "stream",
          "text": [
            "Number of duplicate images found: 551\n"
          ],
          "name": "stdout"
        }
      ]
    },
    {
      "cell_type": "code",
      "metadata": {
        "id": "D9GNyj2arrL_",
        "colab_type": "code",
        "outputId": "927654d3-b701-4253-effc-f1efd0909ba6",
        "colab": {
          "base_uri": "https://localhost:8080/",
          "height": 34
        }
      },
      "source": [
        "###### Creating a copy of the orginal training images ######\n",
        "from distutils.dir_util import copy_tree\n",
        "\n",
        "# os.mkdir(\"/content/gdrive/My Drive/Challenge/Training_Images_copy\")\n",
        "\n",
        "fromDirectory = \"/content/gdrive/My Drive/Challenge/Training_Images\"\n",
        "toDirectory = \"/content/gdrive/My Drive/Challenge/Training_Images_copy\"\n",
        "\n",
        "copy_tree(fromDirectory,toDirectory)\n",
        "\n",
        "print(\"Files copied:\",len(os.listdir(\"/content/gdrive/My Drive/Challenge/Training_Images_copy\")))"
      ],
      "execution_count": 0,
      "outputs": [
        {
          "output_type": "stream",
          "text": [
            "Files copied: 5219\n"
          ],
          "name": "stdout"
        }
      ]
    },
    {
      "cell_type": "code",
      "metadata": {
        "id": "iuvjP1ZqrrJS",
        "colab_type": "code",
        "outputId": "a0b4c597-40c9-4f5c-a786-e9313e4c4d47",
        "colab": {
          "base_uri": "https://localhost:8080/",
          "height": 34
        }
      },
      "source": [
        "####### Remove Duplcaites image files from the folder #######\n",
        "\n",
        "source_path = \"/content/gdrive/My Drive/Challenge/Training_Images_copy/\"\n",
        "\n",
        "j=0\n",
        "\n",
        "while j < len(duplicate_fname):\n",
        "    os.remove(source_path + duplicate_fname[j])\n",
        "    j = j +1 \n",
        "\n",
        "print(\"Non-Duplciate files remaining for training: \",len(os.listdir(source_path)))"
      ],
      "execution_count": 0,
      "outputs": [
        {
          "output_type": "stream",
          "text": [
            "Non-Duplciate files remaining for training:  4668\n"
          ],
          "name": "stdout"
        }
      ]
    },
    {
      "cell_type": "code",
      "metadata": {
        "id": "mR-5SHKlrrHy",
        "colab_type": "code",
        "colab": {}
      },
      "source": [
        "###### Change of working directory #######\n",
        "os.chdir(\"/content/gdrive/My Drive/Challenge\")"
      ],
      "execution_count": 0,
      "outputs": []
    },
    {
      "cell_type": "code",
      "metadata": {
        "id": "WyxbsQAnsMnq",
        "colab_type": "code",
        "outputId": "5f5d96eb-c069-400b-ac57-804da1c21502",
        "colab": {
          "base_uri": "https://localhost:8080/",
          "height": 34
        }
      },
      "source": [
        "########### Remove duplicate entries from label dataframe ########\n",
        "\n",
        "new_df = df1[~df1.Image.isin(duplicate_fname)]\n",
        "print(\"Non-Duplciate entries in the label set file: \",len(new_df))"
      ],
      "execution_count": 0,
      "outputs": [
        {
          "output_type": "stream",
          "text": [
            "Non-Duplciate entries in the label set file:  4668\n"
          ],
          "name": "stdout"
        }
      ]
    },
    {
      "cell_type": "code",
      "metadata": {
        "id": "VZ7a0LLCsMrI",
        "colab_type": "code",
        "colab": {}
      },
      "source": [
        "########### New DIRs for the class label vise data #########\n",
        "\n",
        "os.mkdir('/content/gdrive/My Drive/Challenge/Training_Set')\n",
        "os.mkdir('/content/gdrive/My Drive/Challenge/Training_Set/class0')\n",
        "os.mkdir('/content/gdrive/My Drive/Challenge/Training_Set/class1')\n",
        "os.mkdir('/content/gdrive/My Drive/Challenge/Training_Set/class2')\n",
        "os.mkdir('/content/gdrive/My Drive/Challenge/Training_Set/class3')\n",
        "os.mkdir('/content/gdrive/My Drive/Challenge/Training_Set/class4')\n",
        "\n",
        "os.mkdir('/content/gdrive/My Drive/Challenge/Validation_Set')\n",
        "os.mkdir('/content/gdrive/My Drive/Challenge/Validation_Set/class0')\n",
        "os.mkdir('/content/gdrive/My Drive/Challenge/Validation_Set/class1')\n",
        "os.mkdir('/content/gdrive/My Drive/Challenge/Validation_Set/class2')\n",
        "os.mkdir('/content/gdrive/My Drive/Challenge/Validation_Set/class3')\n",
        "os.mkdir('/content/gdrive/My Drive/Challenge/Validation_Set/class4')"
      ],
      "execution_count": 0,
      "outputs": []
    },
    {
      "cell_type": "code",
      "metadata": {
        "id": "yDWHcj58rrGj",
        "colab_type": "code",
        "colab": {}
      },
      "source": [
        "######### Extract image file names for each label ########\n",
        "\n",
        "image_class0_df = new_df[new_df.label ==0]\n",
        "image_class1_df = new_df[new_df.label ==1]\n",
        "image_class2_df = new_df[new_df.label ==2]\n",
        "image_class3_df = new_df[new_df.label ==3]\n",
        "image_class4_df = new_df[new_df.label ==4]\n",
        "\n",
        "\n",
        "image_class0_list = image_class0_df['Image'].to_list()\n",
        "image_class1_list = image_class1_df['Image'].to_list()\n",
        "image_class2_list = image_class2_df['Image'].to_list()\n",
        "image_class3_list = image_class3_df['Image'].to_list()\n",
        "image_class4_list = image_class4_df['Image'].to_list()"
      ],
      "execution_count": 0,
      "outputs": []
    },
    {
      "cell_type": "code",
      "metadata": {
        "id": "oQ-JgfO5rq_f",
        "colab_type": "code",
        "colab": {}
      },
      "source": [
        "########### Splitting the data for training and validation sets ###########\n",
        "\n",
        "def split_image_files(source_dir, image_list, training_dir, validation_dir, split_size):\n",
        "\n",
        "    training_set_length = int(len(image_list) * split_size)\n",
        "    validation_set_length = int(len(image_list) - training_set_length)\n",
        "\n",
        "    random.sample(image_list,len(image_list))\n",
        "    \n",
        "    training_set = image_list[0:training_set_length]\n",
        "    validation_set = image_list[-validation_set_length:]\n",
        "    \n",
        "    for file_name in training_set:\n",
        "        temp_training_set = source_dir + file_name\n",
        "        final_training_set = training_dir + file_name\n",
        "        sh.copyfile(temp_training_set,final_training_set)\n",
        "        \n",
        "    for file_name in validation_set:\n",
        "        temp_validation_set = source_dir + file_name\n",
        "        final_validation_set = validation_dir + file_name\n",
        "        sh.copyfile(temp_validation_set,final_validation_set)\n",
        "\n",
        "\n",
        "source_dir = '/content/gdrive/My Drive/Challenge/Training_Images/'\n",
        "\n",
        "class0_training_dir = '/content/gdrive/My Drive/Challenge/Training_Set/class0/'\n",
        "class1_training_dir = '/content/gdrive/My Drive/Challenge/Training_Set/class1/'\n",
        "class2_training_dir = '/content/gdrive/My Drive/Challenge/Training_Set/class2/'\n",
        "class3_training_dir = '/content/gdrive/My Drive/Challenge/Training_Set/class3/'\n",
        "class4_training_dir = '/content/gdrive/My Drive/Challenge/Training_Set/class4/'\n",
        "\n",
        "class0_validation_dir = '/content/gdrive/My Drive/Challenge/Validation_Set/class0/'\n",
        "class1_validation_dir = '/content/gdrive/My Drive/Challenge/Validation_Set/class1/'\n",
        "class2_validation_dir = '/content/gdrive/My Drive/Challenge/Validation_Set/class2/'\n",
        "class3_validation_dir = '/content/gdrive/My Drive/Challenge/Validation_Set/class3/'\n",
        "class4_validation_dir = '/content/gdrive/My Drive/Challenge/Validation_Set/class4/'\n",
        "\n",
        "split_size = 0.8 ### 80% of data for training and 20% for validation.\n",
        "\n",
        "\n",
        "split_image_files(source_dir,image_class0_list,class0_training_dir,class0_validation_dir,split_size)\n",
        "split_image_files(source_dir,image_class1_list,class1_training_dir,class1_validation_dir,split_size)\n",
        "split_image_files(source_dir,image_class2_list,class2_training_dir,class2_validation_dir,split_size)\n",
        "split_image_files(source_dir,image_class3_list,class3_training_dir,class3_validation_dir,split_size)\n",
        "split_image_files(source_dir,image_class4_list,class4_training_dir,class4_validation_dir,split_size)\n",
        "\n",
        "\n",
        "total_validation_file = len(os.listdir('/content/gdrive/My Drive/Challenge/Validation_Set/class0')) + len(os.listdir('/content/gdrive/My Drive/Challenge/Validation_Set/class1')) + len(os.listdir('/content/gdrive/My Drive/Challenge/Validation_Set/class2')) + len(os.listdir('/content/gdrive/My Drive/Challenge/Validation_Set/class3')) + len(os.listdir('/content/gdrive/My Drive/Challenge/Validation_Set/class4'))\n"
      ],
      "execution_count": 0,
      "outputs": []
    },
    {
      "cell_type": "code",
      "metadata": {
        "id": "_CrZD_2vscLs",
        "colab_type": "code",
        "outputId": "21f2bbb3-c04a-44c8-c4e4-5e06f3a6bbc9",
        "colab": {
          "base_uri": "https://localhost:8080/",
          "height": 187
        }
      },
      "source": [
        "###### Check if the images are distributed ########\n",
        "for i in range(0,5):\n",
        "    print(\"Number of training images for class\",i,\" :\",len(os.listdir('/content/gdrive/My Drive/Challenge/Training_Set/class'+str(i)+'/')))\n",
        "    print(\"Number of validation images for class\",i,\" :\",len(os.listdir('/content/gdrive/My Drive/Challenge/Validation_Set/class'+str(i)+'/')))"
      ],
      "execution_count": 0,
      "outputs": [
        {
          "output_type": "stream",
          "text": [
            "Number of training images for class 0  : 634\n",
            "Number of validation images for class 0  : 159\n",
            "Number of training images for class 1  : 684\n",
            "Number of validation images for class 1  : 172\n",
            "Number of training images for class 2  : 744\n",
            "Number of validation images for class 2  : 186\n",
            "Number of training images for class 3  : 789\n",
            "Number of validation images for class 3  : 198\n",
            "Number of training images for class 4  : 881\n",
            "Number of validation images for class 4  : 221\n"
          ],
          "name": "stdout"
        }
      ]
    },
    {
      "cell_type": "code",
      "metadata": {
        "id": "D0R1mWKPshw0",
        "colab_type": "code",
        "outputId": "f9afc1d6-d4bc-46ed-db03-2acc1064e5d8",
        "colab": {
          "base_uri": "https://localhost:8080/",
          "height": 459
        }
      },
      "source": [
        "######## Model ################\n",
        "\n",
        "model = Sequential()\n",
        "\n",
        "model.add(Conv2D(16, kernel_size=(3, 3),activation='relu',input_shape=(128,128,3)))\n",
        "model.add(MaxPooling2D(pool_size=(2, 2)))\n",
        "\n",
        "model.add(Dropout(0.2))\n",
        "\n",
        "model.add(Conv2D(32, (3, 3), activation='relu'))\n",
        "model.add(MaxPooling2D(pool_size=(2, 2)))\n",
        "\n",
        "# model.add(Dropout(0.2))\n",
        "\n",
        "# model.add(Conv2D(64, (3, 3), activation='relu'))\n",
        "# model.add(MaxPooling2D(pool_size=(2, 2)))\n",
        "\n",
        "# model.add(Conv2D(256, (3, 3), activation='relu'))\n",
        "# model.add(MaxPooling2D(pool_size=(2, 2)))\n",
        "\n",
        "# model.add(Dropout(0.2))\n",
        "model.add(Flatten())\n",
        "model.add(Dense(48, activation='relu'))\n",
        "model.add(Dropout(0.2))\n",
        "model.add(Dense(5, activation='softmax'))\n",
        "\n",
        "\n",
        "model.compile(loss='categorical_crossentropy',optimizer='Adam',metrics=['accuracy'])\n",
        "\n",
        "model.summary()"
      ],
      "execution_count": 0,
      "outputs": [
        {
          "output_type": "stream",
          "text": [
            "Model: \"sequential_5\"\n",
            "_________________________________________________________________\n",
            "Layer (type)                 Output Shape              Param #   \n",
            "=================================================================\n",
            "conv2d_9 (Conv2D)            (None, 126, 126, 16)      448       \n",
            "_________________________________________________________________\n",
            "max_pooling2d_9 (MaxPooling2 (None, 63, 63, 16)        0         \n",
            "_________________________________________________________________\n",
            "dropout_10 (Dropout)         (None, 63, 63, 16)        0         \n",
            "_________________________________________________________________\n",
            "conv2d_10 (Conv2D)           (None, 61, 61, 32)        4640      \n",
            "_________________________________________________________________\n",
            "max_pooling2d_10 (MaxPooling (None, 30, 30, 32)        0         \n",
            "_________________________________________________________________\n",
            "flatten_5 (Flatten)          (None, 28800)             0         \n",
            "_________________________________________________________________\n",
            "dense_9 (Dense)              (None, 48)                1382448   \n",
            "_________________________________________________________________\n",
            "dropout_11 (Dropout)         (None, 48)                0         \n",
            "_________________________________________________________________\n",
            "dense_10 (Dense)             (None, 5)                 245       \n",
            "=================================================================\n",
            "Total params: 1,387,781\n",
            "Trainable params: 1,387,781\n",
            "Non-trainable params: 0\n",
            "_________________________________________________________________\n"
          ],
          "name": "stdout"
        }
      ]
    },
    {
      "cell_type": "code",
      "metadata": {
        "id": "14JBZdh-spbq",
        "colab_type": "code",
        "outputId": "5f74aa38-bfe8-4ecc-8a1e-e0911dabbccc",
        "cellView": "code",
        "colab": {
          "base_uri": "https://localhost:8080/",
          "height": 51
        }
      },
      "source": [
        "\n",
        "######## Creating the generator for input to the model #########\n",
        "\n",
        "bs = 48 # batch size\n",
        "\n",
        "TRAINING_DIR = \"/content/gdrive/My Drive/Challenge/Training_Set\"\n",
        "train_datagen = ImageDataGenerator(rescale=1.0/255,\n",
        "                                  #  rotation_range=20,\n",
        "                                   width_shift_range=0.2,\n",
        "                                   height_shift_range=0.2,\n",
        "                                   shear_range=0.2,\n",
        "                                   zoom_range=0.2,\n",
        "                                    horizontal_flip=True,\n",
        "                                   fill_mode='nearest')\n",
        "\n",
        "train_generator = train_datagen.flow_from_directory(TRAINING_DIR, \n",
        "                                                    batch_size=bs, \n",
        "                                                    class_mode='categorical', \n",
        "                                                    target_size=(128, 128))\n",
        "\n",
        "\n",
        "VALIDATION_DIR = \"/content/gdrive/My Drive/Challenge/Validation_Set\"\n",
        "validation_datagen = ImageDataGenerator(rescale=1.0/255)\n",
        "\n",
        "\n",
        "validation_generator = validation_datagen.flow_from_directory(VALIDATION_DIR, \n",
        "                                                    batch_size=bs, \n",
        "                                                    class_mode='categorical', \n",
        "                                                    target_size=(128, 128))"
      ],
      "execution_count": 0,
      "outputs": [
        {
          "output_type": "stream",
          "text": [
            "Found 3732 images belonging to 5 classes.\n",
            "Found 936 images belonging to 5 classes.\n"
          ],
          "name": "stdout"
        }
      ]
    },
    {
      "cell_type": "code",
      "metadata": {
        "id": "YOerPfBlrq8c",
        "colab_type": "code",
        "outputId": "660ad2a1-8978-4554-eda4-50558666d269",
        "colab": {
          "base_uri": "https://localhost:8080/",
          "height": 867
        }
      },
      "source": [
        "history = model.fit_generator(train_generator,\n",
        "                              epochs=25,\n",
        "                              verbose=1,\n",
        "                            # steps_per_epoch = 100,\n",
        "                              validation_data=validation_generator)\n",
        "                              # validation_steps = 25)"
      ],
      "execution_count": 0,
      "outputs": [
        {
          "output_type": "stream",
          "text": [
            "Epoch 1/25\n",
            "78/78 [==============================] - 50s 645ms/step - loss: 1.6169 - accuracy: 0.2621 - val_loss: 1.5736 - val_accuracy: 0.3002\n",
            "Epoch 2/25\n",
            "78/78 [==============================] - 46s 594ms/step - loss: 1.5146 - accuracy: 0.3033 - val_loss: 1.6613 - val_accuracy: 0.2639\n",
            "Epoch 3/25\n",
            "78/78 [==============================] - 46s 592ms/step - loss: 1.4999 - accuracy: 0.3036 - val_loss: 1.4581 - val_accuracy: 0.3013\n",
            "Epoch 4/25\n",
            "78/78 [==============================] - 47s 597ms/step - loss: 1.4779 - accuracy: 0.3178 - val_loss: 1.3750 - val_accuracy: 0.3440\n",
            "Epoch 5/25\n",
            "78/78 [==============================] - 46s 586ms/step - loss: 1.4820 - accuracy: 0.3186 - val_loss: 1.4332 - val_accuracy: 0.2917\n",
            "Epoch 6/25\n",
            "78/78 [==============================] - 46s 591ms/step - loss: 1.4485 - accuracy: 0.3288 - val_loss: 1.4715 - val_accuracy: 0.3344\n",
            "Epoch 7/25\n",
            "78/78 [==============================] - 46s 590ms/step - loss: 1.4503 - accuracy: 0.3398 - val_loss: 1.3802 - val_accuracy: 0.3600\n",
            "Epoch 8/25\n",
            "78/78 [==============================] - 47s 600ms/step - loss: 1.4256 - accuracy: 0.3534 - val_loss: 1.4855 - val_accuracy: 0.3483\n",
            "Epoch 9/25\n",
            "78/78 [==============================] - 46s 587ms/step - loss: 1.4206 - accuracy: 0.3556 - val_loss: 1.3817 - val_accuracy: 0.3590\n",
            "Epoch 10/25\n",
            "78/78 [==============================] - 45s 576ms/step - loss: 1.4077 - accuracy: 0.3663 - val_loss: 1.5158 - val_accuracy: 0.4103\n",
            "Epoch 11/25\n",
            "78/78 [==============================] - 45s 583ms/step - loss: 1.3993 - accuracy: 0.3703 - val_loss: 1.3915 - val_accuracy: 0.3280\n",
            "Epoch 12/25\n",
            "78/78 [==============================] - 45s 576ms/step - loss: 1.4054 - accuracy: 0.3660 - val_loss: 1.3853 - val_accuracy: 0.3803\n",
            "Epoch 13/25\n",
            "78/78 [==============================] - 45s 574ms/step - loss: 1.3707 - accuracy: 0.3730 - val_loss: 1.6122 - val_accuracy: 0.3654\n",
            "Epoch 14/25\n",
            "78/78 [==============================] - 45s 575ms/step - loss: 1.3768 - accuracy: 0.3767 - val_loss: 1.4944 - val_accuracy: 0.3878\n",
            "Epoch 15/25\n",
            "78/78 [==============================] - 46s 590ms/step - loss: 1.3684 - accuracy: 0.3901 - val_loss: 1.6558 - val_accuracy: 0.3868\n",
            "Epoch 16/25\n",
            "78/78 [==============================] - 45s 581ms/step - loss: 1.3580 - accuracy: 0.3963 - val_loss: 1.6075 - val_accuracy: 0.3429\n",
            "Epoch 17/25\n",
            "78/78 [==============================] - 45s 579ms/step - loss: 1.3503 - accuracy: 0.3915 - val_loss: 1.2964 - val_accuracy: 0.4049\n",
            "Epoch 18/25\n",
            "78/78 [==============================] - 46s 591ms/step - loss: 1.3662 - accuracy: 0.3850 - val_loss: 1.2192 - val_accuracy: 0.3942\n",
            "Epoch 19/25\n",
            "78/78 [==============================] - 45s 578ms/step - loss: 1.3660 - accuracy: 0.3880 - val_loss: 1.3687 - val_accuracy: 0.3803\n",
            "Epoch 20/25\n",
            "78/78 [==============================] - 45s 582ms/step - loss: 1.3498 - accuracy: 0.3955 - val_loss: 1.4774 - val_accuracy: 0.3889\n",
            "Epoch 21/25\n",
            "78/78 [==============================] - 45s 579ms/step - loss: 1.3648 - accuracy: 0.3920 - val_loss: 1.3277 - val_accuracy: 0.3996\n",
            "Epoch 22/25\n",
            "78/78 [==============================] - 46s 595ms/step - loss: 1.3520 - accuracy: 0.3926 - val_loss: 1.6099 - val_accuracy: 0.4081\n",
            "Epoch 23/25\n",
            "78/78 [==============================] - 46s 590ms/step - loss: 1.3423 - accuracy: 0.4038 - val_loss: 1.3075 - val_accuracy: 0.3953\n",
            "Epoch 24/25\n",
            "78/78 [==============================] - 46s 594ms/step - loss: 1.3344 - accuracy: 0.4073 - val_loss: 1.3732 - val_accuracy: 0.4071\n",
            "Epoch 25/25\n",
            "78/78 [==============================] - 46s 583ms/step - loss: 1.3349 - accuracy: 0.4033 - val_loss: 1.4302 - val_accuracy: 0.4049\n"
          ],
          "name": "stdout"
        }
      ]
    },
    {
      "cell_type": "code",
      "metadata": {
        "id": "QCLGx9xuszkT",
        "colab_type": "code",
        "outputId": "6cf8cba9-25ab-4ef2-a1e7-a85a29a5c473",
        "colab": {
          "base_uri": "https://localhost:8080/",
          "height": 312
        }
      },
      "source": [
        "######### Graph - Training vs Validation accuracy per epoch\n",
        "plt.plot(history.history['accuracy'], label='accuracy')\n",
        "plt.plot(history.history['val_accuracy'], label = 'val_accuracy')\n",
        "plt.title('Training vs Validation accuracy')\n",
        "plt.xlabel('Epochs')\n",
        "plt.ylabel('Accuracy')\n",
        "plt.ylim([0,1])\n",
        "plt.grid(True)\n",
        "plt.legend(loc='lower right')"
      ],
      "execution_count": 0,
      "outputs": [
        {
          "output_type": "execute_result",
          "data": {
            "text/plain": [
              "<matplotlib.legend.Legend at 0x7f9762666588>"
            ]
          },
          "metadata": {
            "tags": []
          },
          "execution_count": 42
        },
        {
          "output_type": "display_data",
          "data": {
            "image/png": "[encoded data removed]",
            "text/plain": [
              "<Figure size 432x288 with 1 Axes>"
            ]
          },
          "metadata": {
            "tags": [],
            "needs_background": "light"
          }
        }
      ]
    },
    {
      "cell_type": "code",
      "metadata": {
        "id": "teB_qi0Is8Kp",
        "colab_type": "code",
        "outputId": "cc5cef88-e48c-4a5f-951e-cc3a901242b5",
        "colab": {
          "base_uri": "https://localhost:8080/",
          "height": 312
        }
      },
      "source": [
        "########## Graph - Training vs Validation loss per epoch\n",
        "plt.plot(history.history['loss'], label = \"Training Loss\")\n",
        "plt.plot(history.history['val_loss'], label = \"Validation Loss\")\n",
        "plt.title('Training vs Validation loss')\n",
        "plt.xlabel('Epochs')\n",
        "plt.ylabel('Loss')\n",
        "plt.grid(True)\n",
        "plt.legend(loc='lower left')"
      ],
      "execution_count": 0,
      "outputs": [
        {
          "output_type": "execute_result",
          "data": {
            "text/plain": [
              "<matplotlib.legend.Legend at 0x7f97625f7ba8>"
            ]
          },
          "metadata": {
            "tags": []
          },
          "execution_count": 43
        },
        {
          "output_type": "display_data",
          "data": {
            "image/png": "[encoded data removed]",
            "text/plain": [
              "<Figure size 432x288 with 1 Axes>"
            ]
          },
          "metadata": {
            "tags": [],
            "needs_background": "light"
          }
        }
      ]
    },
    {
      "cell_type": "code",
      "metadata": {
        "id": "4IxYErsJ0_oW",
        "colab_type": "code",
        "colab": {}
      },
      "source": [
        "####### Confusion Matrix #########\n",
        "\n",
        "from sklearn.metrics import confusion_matrix\n",
        "from sklearn.metrics import classification_report\n",
        "\n",
        "\n",
        "Y_pred = model.predict_generator(validation_generator, total_validation_file // bs+1)\n",
        "\n",
        "y_pred = np.argmax(Y_pred, axis=1)\n",
        "\n",
        "cm = confusion_matrix(validation_generator.classes, y_pred)"
      ],
      "execution_count": 0,
      "outputs": []
    },
    {
      "cell_type": "code",
      "metadata": {
        "id": "r3xzmEwd8_qA",
        "colab_type": "code",
        "outputId": "282d3f83-0958-4e1d-931b-4a1e55e998e1",
        "colab": {
          "base_uri": "https://localhost:8080/",
          "height": 349
        }
      },
      "source": [
        "import seaborn as sns\n",
        "import matplotlib.pyplot as plt     \n",
        "\n",
        "ax= plt.subplot()\n",
        "sns.heatmap(cm, annot=True, ax = ax, square = True, cmap=\"Blues\" , linecolor= \"white\", linewidths= '1');\n",
        "\n",
        "ax.set_xlabel('Predicted labels');\n",
        "ax.set_ylabel('True labels'); \n",
        "ax.set_title('Confusion Matrix'); "
      ],
      "execution_count": 0,
      "outputs": [
        {
          "output_type": "stream",
          "text": [
            "/usr/local/lib/python3.6/dist-packages/statsmodels/tools/_testing.py:19: FutureWarning: pandas.util.testing is deprecated. Use the functions in the public API at pandas.testing instead.\n",
            "  import pandas.util.testing as tm\n"
          ],
          "name": "stderr"
        },
        {
          "output_type": "display_data",
          "data": {
            "image/png": "[encoded data removed]",
            "text/plain": [
              "<Figure size 432x288 with 2 Axes>"
            ]
          },
          "metadata": {
            "tags": [],
            "needs_background": "light"
          }
        }
      ]
    },
    {
      "cell_type": "code",
      "metadata": {
        "id": "Ji2NTR7QEFz4",
        "colab_type": "code",
        "outputId": "9d42b505-f4c9-4025-bca2-e0808e0e1f85",
        "colab": {
          "base_uri": "https://localhost:8080/",
          "height": 255
        }
      },
      "source": [
        "class_labels = ['class_0', 'class_1', 'class_2','class_3','class_4']\n",
        "clasy_rep= classification_report(validation_generator.classes, y_pred, target_names= class_labels)\n",
        "\n",
        "print('Classification Report:\\n')\n",
        "print(clasy_rep)"
      ],
      "execution_count": 0,
      "outputs": [
        {
          "output_type": "stream",
          "text": [
            "Classification Report:\n",
            "\n",
            "              precision    recall  f1-score   support\n",
            "\n",
            "     class_0       0.17      0.26      0.21       159\n",
            "     class_1       0.20      0.23      0.22       172\n",
            "     class_2       0.21      0.04      0.07       186\n",
            "     class_3       0.28      0.15      0.19       198\n",
            "     class_4       0.23      0.36      0.28       221\n",
            "\n",
            "    accuracy                           0.21       936\n",
            "   macro avg       0.22      0.21      0.19       936\n",
            "weighted avg       0.22      0.21      0.20       936\n",
            "\n"
          ],
          "name": "stdout"
        }
      ]
    }
  ]
}