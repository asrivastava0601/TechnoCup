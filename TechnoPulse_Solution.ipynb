{
  "nbformat": 4,
  "nbformat_minor": 0,
  "metadata": {
    "colab": {
      "name": "TechnoPulse_Solution.ipynb",
      "provenance": [],
      "collapsed_sections": [],
      "authorship_tag": "ABX9TyOxtl8hhgi+mP4hswThnqBz",
      "include_colab_link": true
    },
    "kernelspec": {
      "name": "python3",
      "display_name": "Python 3"
    },
    "accelerator": "GPU"
  },
  "cells": [
    {
      "cell_type": "markdown",
      "metadata": {
        "id": "view-in-github",
        "colab_type": "text"
      },
      "source": [
        "<a href=\"https://colab.research.google.com/github/asrivastava0601/TechnoPulse_Competition/blob/master/TechnoPulse_Solution.ipynb\" target=\"_parent\"><img src=\"https://colab.research.google.com/assets/colab-badge.svg\" alt=\"Open In Colab\"/></a>"
      ]
    },
    {
      "cell_type": "code",
      "metadata": {
        "id": "txloggmiqyYJ",
        "colab_type": "code",
        "colab": {}
      },
      "source": [
        "from google.colab import drive\n",
        "drive.mount('/content/gdrive')"
      ],
      "execution_count": 0,
      "outputs": []
    },
    {
      "cell_type": "code",
      "metadata": {
        "id": "b3hdSs44rNS0",
        "colab_type": "code",
        "colab": {}
      },
      "source": [
        "import numpy as np\n",
        "import pandas as pd\n",
        "from keras.preprocessing import image\n",
        "from keras.utils import to_categorical\n",
        "from sklearn.model_selection import train_test_split\n",
        "from keras.models import Sequential\n",
        "from keras.layers import Dense, Dropout, Flatten\n",
        "from keras.layers import Conv2D, MaxPooling2D\n",
        "from keras.layers import AvgPool2D\n",
        "from keras.layers import BatchNormalization\n",
        "import matplotlib.pyplot as plt"
      ],
      "execution_count": 0,
      "outputs": []
    },
    {
      "cell_type": "code",
      "metadata": {
        "id": "K0TRNqPnrMbJ",
        "colab_type": "code",
        "colab": {}
      },
      "source": [
        "from tensorflow.keras.preprocessing.image import ImageDataGenerator\n",
        "import hashlib\n",
        "from hashlib import md5\n",
        "import os\n",
        "import random\n",
        "import shutil as sh"
      ],
      "execution_count": 0,
      "outputs": []
    },
    {
      "cell_type": "code",
      "metadata": {
        "id": "YYOAX430rqzp",
        "colab_type": "code",
        "outputId": "6e938de1-5842-41c1-bb67-8f1d1aa74096",
        "colab": {
          "base_uri": "https://localhost:8080/",
          "height": 204
        }
      },
      "source": [
        "df1 = pd.read_csv(\"/content/gdrive/My Drive/Challenge/Trainingcopy.csv\")\n",
        "\n",
        "df1.head()"
      ],
      "execution_count": 0,
      "outputs": [
        {
          "output_type": "execute_result",
          "data": {
            "text/html": [
              "<div>\n",
              "<style scoped>\n",
              "    .dataframe tbody tr th:only-of-type {\n",
              "        vertical-align: middle;\n",
              "    }\n",
              "\n",
              "    .dataframe tbody tr th {\n",
              "        vertical-align: top;\n",
              "    }\n",
              "\n",
              "    .dataframe thead th {\n",
              "        text-align: right;\n",
              "    }\n",
              "</style>\n",
              "<table border=\"1\" class=\"dataframe\">\n",
              "  <thead>\n",
              "    <tr style=\"text-align: right;\">\n",
              "      <th></th>\n",
              "      <th>file</th>\n",
              "      <th>label</th>\n",
              "    </tr>\n",
              "  </thead>\n",
              "  <tbody>\n",
              "    <tr>\n",
              "      <th>0</th>\n",
              "      <td>1</td>\n",
              "      <td>0</td>\n",
              "    </tr>\n",
              "    <tr>\n",
              "      <th>1</th>\n",
              "      <td>2</td>\n",
              "      <td>2</td>\n",
              "    </tr>\n",
              "    <tr>\n",
              "      <th>2</th>\n",
              "      <td>3</td>\n",
              "      <td>3</td>\n",
              "    </tr>\n",
              "    <tr>\n",
              "      <th>3</th>\n",
              "      <td>4</td>\n",
              "      <td>4</td>\n",
              "    </tr>\n",
              "    <tr>\n",
              "      <th>4</th>\n",
              "      <td>5</td>\n",
              "      <td>0</td>\n",
              "    </tr>\n",
              "  </tbody>\n",
              "</table>\n",
              "</div>"
            ],
            "text/plain": [
              "   file  label\n",
              "0     1      0\n",
              "1     2      2\n",
              "2     3      3\n",
              "3     4      4\n",
              "4     5      0"
            ]
          },
          "metadata": {
            "tags": []
          },
          "execution_count": 8
        }
      ]
    },
    {
      "cell_type": "code",
      "metadata": {
        "id": "8Z-yK2lUrq5D",
        "colab_type": "code",
        "outputId": "4ad71cfe-a9fd-4b7f-af6c-5bdc16d3a7cb",
        "colab": {
          "base_uri": "https://localhost:8080/",
          "height": 204
        }
      },
      "source": [
        "df1['path1'] = 'Image-'\n",
        "\n",
        "df1['jpg'] = '.jpg'\n",
        "\n",
        "df1['Image'] =  df1['path1'] + df1['file'].astype(str) + df1['jpg']\n",
        "df1 = df1.drop(['file','path1','jpg'], axis = 1)\n",
        "\n",
        "df1 = df1[['Image','label']]\n",
        "\n",
        "df1.head()"
      ],
      "execution_count": 0,
      "outputs": [
        {
          "output_type": "execute_result",
          "data": {
            "text/html": [
              "<div>\n",
              "<style scoped>\n",
              "    .dataframe tbody tr th:only-of-type {\n",
              "        vertical-align: middle;\n",
              "    }\n",
              "\n",
              "    .dataframe tbody tr th {\n",
              "        vertical-align: top;\n",
              "    }\n",
              "\n",
              "    .dataframe thead th {\n",
              "        text-align: right;\n",
              "    }\n",
              "</style>\n",
              "<table border=\"1\" class=\"dataframe\">\n",
              "  <thead>\n",
              "    <tr style=\"text-align: right;\">\n",
              "      <th></th>\n",
              "      <th>Image</th>\n",
              "      <th>label</th>\n",
              "    </tr>\n",
              "  </thead>\n",
              "  <tbody>\n",
              "    <tr>\n",
              "      <th>0</th>\n",
              "      <td>Image-1.jpg</td>\n",
              "      <td>0</td>\n",
              "    </tr>\n",
              "    <tr>\n",
              "      <th>1</th>\n",
              "      <td>Image-2.jpg</td>\n",
              "      <td>2</td>\n",
              "    </tr>\n",
              "    <tr>\n",
              "      <th>2</th>\n",
              "      <td>Image-3.jpg</td>\n",
              "      <td>3</td>\n",
              "    </tr>\n",
              "    <tr>\n",
              "      <th>3</th>\n",
              "      <td>Image-4.jpg</td>\n",
              "      <td>4</td>\n",
              "    </tr>\n",
              "    <tr>\n",
              "      <th>4</th>\n",
              "      <td>Image-5.jpg</td>\n",
              "      <td>0</td>\n",
              "    </tr>\n",
              "  </tbody>\n",
              "</table>\n",
              "</div>"
            ],
            "text/plain": [
              "         Image  label\n",
              "0  Image-1.jpg      0\n",
              "1  Image-2.jpg      2\n",
              "2  Image-3.jpg      3\n",
              "3  Image-4.jpg      4\n",
              "4  Image-5.jpg      0"
            ]
          },
          "metadata": {
            "tags": []
          },
          "execution_count": 9
        }
      ]
    },
    {
      "cell_type": "code",
      "metadata": {
        "id": "Zv5xGE-trrA2",
        "colab_type": "code",
        "outputId": "3f2466af-f2fa-44af-be06-2f17e61518da",
        "colab": {
          "base_uri": "https://localhost:8080/",
          "height": 153
        }
      },
      "source": [
        "label_count = df1.groupby('label')['Image'].nunique()\n",
        "\n",
        "print(\"Class label and Image count\\n\",label_count)"
      ],
      "execution_count": 0,
      "outputs": [
        {
          "output_type": "stream",
          "text": [
            "Class label and Image count\n",
            " label\n",
            "0     892\n",
            "1     976\n",
            "2    1044\n",
            "3    1101\n",
            "4    1206\n",
            "Name: Image, dtype: int64\n"
          ],
          "name": "stdout"
        }
      ]
    },
    {
      "cell_type": "code",
      "metadata": {
        "id": "HQJD_DMuuIo0",
        "colab_type": "code",
        "outputId": "c635fa3c-00ec-4d06-ba67-edd70c170b22",
        "colab": {
          "base_uri": "https://localhost:8080/",
          "height": 34
        }
      },
      "source": [
        "os.getcwd()"
      ],
      "execution_count": 0,
      "outputs": [
        {
          "output_type": "execute_result",
          "data": {
            "text/plain": [
              "'/content'"
            ]
          },
          "metadata": {
            "tags": []
          },
          "execution_count": 11
        }
      ]
    },
    {
      "cell_type": "code",
      "metadata": {
        "id": "2eRn8zYrvMCh",
        "colab_type": "code",
        "outputId": "33b780eb-3426-4b12-c1e9-447ae4482a83",
        "colab": {
          "base_uri": "https://localhost:8080/",
          "height": 34
        }
      },
      "source": [
        "os.getcwd()\n",
        "os.chdir(\"/content/gdrive/My Drive/Challenge/Training_Images\")\n",
        "os.getcwd()"
      ],
      "execution_count": 0,
      "outputs": [
        {
          "output_type": "execute_result",
          "data": {
            "text/plain": [
              "'/content/gdrive/My Drive/Challenge/Training_Images'"
            ]
          },
          "metadata": {
            "tags": []
          },
          "execution_count": 12
        }
      ]
    },
    {
      "cell_type": "code",
      "metadata": {
        "id": "CES7DM3vrrRc",
        "colab_type": "code",
        "outputId": "9068b5f5-7aed-4d02-ebc1-85bddd6c684c",
        "colab": {
          "base_uri": "https://localhost:8080/",
          "height": 51
        }
      },
      "source": [
        "####### Identify duplicate images using the hash keys ##########\n",
        "\n",
        "file_list = os.listdir()\n",
        "print(\"Number of files to read: \", len(file_list))\n",
        "\n",
        "#original_fname = []          #uncomment to know the original file_name read and the correspoinding index.\n",
        "\n",
        "#duplicates = []              #uncomment to know the duplicate image index and original image index.\n",
        "\n",
        "duplicate_fname = []\n",
        "\n",
        "hash_keys =dict()             # Dictionary to hold hash values as Keys and index as Values for a file.\n",
        "\n",
        "from tqdm import tqdm\n",
        "\n",
        "for index, filename in tqdm(enumerate(os.listdir(\".\")), total = len(file_list)):\n",
        "#    original_fname.append((index,filename))                #uncomment to know the original file_name read and the correspoinding index.\n",
        "    if os.path.isfile(filename):\n",
        "        with open(filename,'rb') as f:\n",
        "            filehash = hashlib.md5(f.read()).hexdigest()\n",
        "        if filehash not in hash_keys:\n",
        "            hash_keys[filehash] = index \n",
        "        else:\n",
        "            duplicate_fname.append(filename)\n",
        "            #print(\"Duplicate file:\",filename)\n",
        "            #duplicates.append((index,hash_keys[filehash]))  #uncomment to know the duplicate image index and original image index."
      ],
      "execution_count": 0,
      "outputs": [
        {
          "output_type": "stream",
          "text": [
            "  0%|          | 1/5219 [00:00<13:37,  6.38it/s]"
          ],
          "name": "stderr"
        },
        {
          "output_type": "stream",
          "text": [
            "number of files to read:  5219\n"
          ],
          "name": "stdout"
        },
        {
          "output_type": "stream",
          "text": [
            "100%|██████████| 5219/5219 [22:42<00:00,  3.83it/s]\n"
          ],
          "name": "stderr"
        }
      ]
    },
    {
      "cell_type": "code",
      "metadata": {
        "id": "kfVgJ3HLrrP3",
        "colab_type": "code",
        "outputId": "454537c7-778e-4774-e116-f63e7d1468d9",
        "colab": {
          "base_uri": "https://localhost:8080/",
          "height": 34
        }
      },
      "source": [
        "print(\"Number of duplicate images found:\",len(duplicate_fname))"
      ],
      "execution_count": 0,
      "outputs": [
        {
          "output_type": "stream",
          "text": [
            "Number of duplicate images found: 551\n"
          ],
          "name": "stdout"
        }
      ]
    },
    {
      "cell_type": "code",
      "metadata": {
        "id": "D9GNyj2arrL_",
        "colab_type": "code",
        "outputId": "407b9bbc-dbaa-470e-92c8-d2f65b6e9de6",
        "colab": {
          "base_uri": "https://localhost:8080/",
          "height": 34
        }
      },
      "source": [
        "###### Creating a copy of the orginal training images ######\n",
        "from distutils.dir_util import copy_tree\n",
        "\n",
        "# os.mkdir(\"/content/gdrive/My Drive/Challenge/Training_Images_copy\")\n",
        "\n",
        "fromDirectory = \"/content/gdrive/My Drive/Challenge/Training_Images\"\n",
        "toDirectory = \"/content/gdrive/My Drive/Challenge/Training_Images_copy\"\n",
        "\n",
        "copy_tree(fromDirectory,toDirectory)\n",
        "\n",
        "print(\"Files copied:\",len(os.listdir(\"/content/gdrive/My Drive/Challenge/Training_Images_copy\")))"
      ],
      "execution_count": 0,
      "outputs": [
        {
          "output_type": "stream",
          "text": [
            "Files copied: 5219\n"
          ],
          "name": "stdout"
        }
      ]
    },
    {
      "cell_type": "code",
      "metadata": {
        "id": "iuvjP1ZqrrJS",
        "colab_type": "code",
        "outputId": "01760999-1d34-4cd9-da9b-04ad687fd1b7",
        "colab": {
          "base_uri": "https://localhost:8080/",
          "height": 34
        }
      },
      "source": [
        "####### Remove Duplcaites image files from the folder #######\n",
        "\n",
        "source_path = \"/content/gdrive/My Drive/Challenge/Training_Images_copy/\"\n",
        "\n",
        "j=0\n",
        "\n",
        "while j < len(duplicate_fname):\n",
        "    os.remove(source_path + duplicate_fname[j])\n",
        "    j = j +1 \n",
        "\n",
        "print(\"Non-Duplciate files remaining for training: \",len(os.listdir(source_path)))"
      ],
      "execution_count": 0,
      "outputs": [
        {
          "output_type": "stream",
          "text": [
            "Non-Duplciate files remaining for training:  4668\n"
          ],
          "name": "stdout"
        }
      ]
    },
    {
      "cell_type": "code",
      "metadata": {
        "id": "mR-5SHKlrrHy",
        "colab_type": "code",
        "colab": {}
      },
      "source": [
        "###### Change of working directory #######\n",
        "os.chdir(\"/content/gdrive/My Drive/Challenge\")"
      ],
      "execution_count": 0,
      "outputs": []
    },
    {
      "cell_type": "code",
      "metadata": {
        "id": "WyxbsQAnsMnq",
        "colab_type": "code",
        "colab": {}
      },
      "source": [
        "########### Remove duplicate entries from label dataframe ########\n",
        "\n",
        "new_df = df1[~df1.Image.isin(duplicate_fname)]\n"
      ],
      "execution_count": 0,
      "outputs": []
    },
    {
      "cell_type": "code",
      "metadata": {
        "id": "uA3Ijzd8sMtm",
        "colab_type": "code",
        "outputId": "540eed90-2f74-43d8-fa1b-75c8f700bb8f",
        "colab": {
          "base_uri": "https://localhost:8080/",
          "height": 34
        }
      },
      "source": [
        "print(\"Non-Duplciate entries in the label set file: \",len(new_df))"
      ],
      "execution_count": 0,
      "outputs": [
        {
          "output_type": "stream",
          "text": [
            "Non-Duplciate entries in the label set file:  4668\n"
          ],
          "name": "stdout"
        }
      ]
    },
    {
      "cell_type": "code",
      "metadata": {
        "id": "VZ7a0LLCsMrI",
        "colab_type": "code",
        "colab": {}
      },
      "source": [
        "########### New DIRs for the class label vise data #########\n",
        "\n",
        "os.mkdir('/content/gdrive/My Drive/Challenge/Training_Set')\n",
        "os.mkdir('/content/gdrive/My Drive/Challenge/Training_Set/class0')\n",
        "os.mkdir('/content/gdrive/My Drive/Challenge/Training_Set/class1')\n",
        "os.mkdir('/content/gdrive/My Drive/Challenge/Training_Set/class2')\n",
        "os.mkdir('/content/gdrive/My Drive/Challenge/Training_Set/class3')\n",
        "os.mkdir('/content/gdrive/My Drive/Challenge/Training_Set/class4')\n",
        "\n",
        "os.mkdir('/content/gdrive/My Drive/Challenge/Validation_Set')\n",
        "os.mkdir('/content/gdrive/My Drive/Challenge/Validation_Set/class0')\n",
        "os.mkdir('/content/gdrive/My Drive/Challenge/Validation_Set/class1')\n",
        "os.mkdir('/content/gdrive/My Drive/Challenge/Validation_Set/class2')\n",
        "os.mkdir('/content/gdrive/My Drive/Challenge/Validation_Set/class3')\n",
        "os.mkdir('/content/gdrive/My Drive/Challenge/Validation_Set/class4')"
      ],
      "execution_count": 0,
      "outputs": []
    },
    {
      "cell_type": "code",
      "metadata": {
        "id": "yDWHcj58rrGj",
        "colab_type": "code",
        "colab": {}
      },
      "source": [
        "######### Extract image file names for each label ########\n",
        "\n",
        "image_class0_df = new_df[new_df.label ==0]\n",
        "image_class1_df = new_df[new_df.label ==1]\n",
        "image_class2_df = new_df[new_df.label ==2]\n",
        "image_class3_df = new_df[new_df.label ==3]\n",
        "image_class4_df = new_df[new_df.label ==4]\n",
        "\n",
        "\n",
        "image_class0_list = image_class0_df['Image'].to_list()\n",
        "image_class1_list = image_class1_df['Image'].to_list()\n",
        "image_class2_list = image_class2_df['Image'].to_list()\n",
        "image_class3_list = image_class3_df['Image'].to_list()\n",
        "image_class4_list = image_class4_df['Image'].to_list()"
      ],
      "execution_count": 0,
      "outputs": []
    },
    {
      "cell_type": "code",
      "metadata": {
        "id": "oQ-JgfO5rq_f",
        "colab_type": "code",
        "colab": {}
      },
      "source": [
        "########### Splitting the data for training and validation sets ###########\n",
        "\n",
        "\n",
        "\n",
        "def split_image_files(source_dir, image_list, training_dir, validation_dir, split_size):\n",
        "\n",
        "    training_set_length = int(len(image_list) * split_size)\n",
        "    validation_set_length = int(len(image_list) - training_set_length)\n",
        "\n",
        "    random.sample(image_list,len(image_list))\n",
        "    \n",
        "    training_set = image_list[0:training_set_length]\n",
        "    validation_set = image_list[-validation_set_length:]\n",
        "    \n",
        "    random.sample(image_list,len(image_list))\n",
        "    \n",
        "    for file_name in training_set:\n",
        "        temp_training_set = source_dir + file_name\n",
        "        final_training_set = training_dir + file_name\n",
        "        sh.copyfile(temp_training_set,final_training_set)\n",
        "        \n",
        "    for file_name in validation_set:\n",
        "        temp_validation_set = source_dir + file_name\n",
        "        final_validation_set = validation_dir + file_name\n",
        "        sh.copyfile(temp_validation_set,final_validation_set)\n",
        "\n",
        "\n",
        "source_dir = '/content/gdrive/My Drive/Challenge/Training_Images/'\n",
        "\n",
        "class0_training_dir = '/content/gdrive/My Drive/Challenge/Training_Set/class0/'\n",
        "class1_training_dir = '/content/gdrive/My Drive/Challenge/Training_Set/class1/'\n",
        "class2_training_dir = '/content/gdrive/My Drive/Challenge/Training_Set/class2/'\n",
        "class3_training_dir = '/content/gdrive/My Drive/Challenge/Training_Set/class3/'\n",
        "class4_training_dir = '/content/gdrive/My Drive/Challenge/Training_Set/class4/'\n",
        "\n",
        "class0_validation_dir = '/content/gdrive/My Drive/Challenge/Validation_Set/class0/'\n",
        "class1_validation_dir = '/content/gdrive/My Drive/Challenge/Validation_Set/class1/'\n",
        "class2_validation_dir = '/content/gdrive/My Drive/Challenge/Validation_Set/class2/'\n",
        "class3_validation_dir = '/content/gdrive/My Drive/Challenge/Validation_Set/class3/'\n",
        "class4_validation_dir = '/content/gdrive/My Drive/Challenge/Validation_Set/class4/'\n",
        "\n",
        "split_size = 0.8 ### 80% of data for training and 20% for validation.\n",
        "\n",
        "\n",
        "split_image_files(source_dir,image_class0_list,class0_training_dir,class0_validation_dir,split_size)\n",
        "split_image_files(source_dir,image_class1_list,class1_training_dir,class1_validation_dir,split_size)\n",
        "split_image_files(source_dir,image_class2_list,class2_training_dir,class2_validation_dir,split_size)\n",
        "split_image_files(source_dir,image_class3_list,class3_training_dir,class3_validation_dir,split_size)\n",
        "split_image_files(source_dir,image_class4_list,class4_training_dir,class4_validation_dir,split_size)\n",
        "\n",
        "\n",
        "total_validation_file = len(os.listdir('/content/gdrive/My Drive/Challenge/Validation_Set/class0')) + len(os.listdir('/content/gdrive/My Drive/Challenge/Validation_Set/class1')) + len(os.listdir('/content/gdrive/My Drive/Challenge/Validation_Set/class2')) + len(os.listdir('/content/gdrive/My Drive/Challenge/Validation_Set/class3')) + len(os.listdir('/content/gdrive/My Drive/Challenge/Validation_Set/class4'))\n"
      ],
      "execution_count": 0,
      "outputs": []
    },
    {
      "cell_type": "code",
      "metadata": {
        "id": "_CrZD_2vscLs",
        "colab_type": "code",
        "outputId": "708ed069-994c-408b-e8b3-459e0306723e",
        "colab": {
          "base_uri": "https://localhost:8080/",
          "height": 187
        }
      },
      "source": [
        "###### Check if the images are distributed ########\n",
        "for i in range(0,5):\n",
        "    print(\"Number of training images for class\",i,\" :\",len(os.listdir('/content/gdrive/My Drive/Challenge/Training_Set/class'+str(i)+'/')))\n",
        "    print(\"Number of validation images for class\",i,\" :\",len(os.listdir('/content/gdrive/My Drive/Challenge/Validation_Set/class'+str(i)+'/')))"
      ],
      "execution_count": 0,
      "outputs": [
        {
          "output_type": "stream",
          "text": [
            "Number of training images for class 0  : 634\n",
            "Number of validation images for class 0  : 159\n",
            "Number of training images for class 1  : 684\n",
            "Number of validation images for class 1  : 172\n",
            "Number of training images for class 2  : 744\n",
            "Number of validation images for class 2  : 186\n",
            "Number of training images for class 3  : 789\n",
            "Number of validation images for class 3  : 198\n",
            "Number of training images for class 4  : 881\n",
            "Number of validation images for class 4  : 221\n"
          ],
          "name": "stdout"
        }
      ]
    },
    {
      "cell_type": "code",
      "metadata": {
        "id": "D0R1mWKPshw0",
        "colab_type": "code",
        "colab": {}
      },
      "source": [
        "######## Model ################\n",
        "\n",
        "model = Sequential()\n",
        "\n",
        "model.add(Conv2D(32, kernel_size=(3, 3),activation='relu',input_shape=(150,150,3)))\n",
        "model.add(MaxPooling2D(pool_size=(2, 2)))\n",
        "\n",
        "model.add(Conv2D(64, (3, 3), activation='relu'))\n",
        "model.add(MaxPooling2D(pool_size=(2, 2)))\n",
        "\n",
        "# model.add(Dropout(0.2))\n",
        "\n",
        "model.add(Conv2D(64, (3, 3), activation='relu'))\n",
        "model.add(MaxPooling2D(pool_size=(2, 2)))\n",
        "\n",
        "# model.add(Conv2D(256, (3, 3), activation='relu'))\n",
        "# model.add(MaxPooling2D(pool_size=(2, 2)))\n",
        "\n",
        "model.add(Dropout(0.2))\n",
        "model.add(Flatten())\n",
        "model.add(Dense(128, activation='relu'))\n",
        "model.add(Dropout(0.2))\n",
        "model.add(Dense(5, activation='softmax'))\n",
        "\n",
        "\n",
        "model.compile(loss='categorical_crossentropy',optimizer='Adam',metrics=['accuracy'])"
      ],
      "execution_count": 0,
      "outputs": []
    },
    {
      "cell_type": "code",
      "metadata": {
        "id": "pZIFpeClscPK",
        "colab_type": "code",
        "outputId": "b4cbf16a-57e4-48c2-fe9c-3a952fc27955",
        "colab": {
          "base_uri": "https://localhost:8080/",
          "height": 595
        }
      },
      "source": [
        "model.summary()"
      ],
      "execution_count": 0,
      "outputs": [
        {
          "output_type": "stream",
          "text": [
            "Model: \"sequential_13\"\n",
            "_________________________________________________________________\n",
            "Layer (type)                 Output Shape              Param #   \n",
            "=================================================================\n",
            "conv2d_20 (Conv2D)           (None, 148, 148, 32)      896       \n",
            "_________________________________________________________________\n",
            "max_pooling2d_20 (MaxPooling (None, 74, 74, 32)        0         \n",
            "_________________________________________________________________\n",
            "conv2d_21 (Conv2D)           (None, 72, 72, 64)        18496     \n",
            "_________________________________________________________________\n",
            "max_pooling2d_21 (MaxPooling (None, 36, 36, 64)        0         \n",
            "_________________________________________________________________\n",
            "conv2d_22 (Conv2D)           (None, 34, 34, 64)        36928     \n",
            "_________________________________________________________________\n",
            "max_pooling2d_22 (MaxPooling (None, 17, 17, 64)        0         \n",
            "_________________________________________________________________\n",
            "conv2d_23 (Conv2D)           (None, 15, 15, 64)        36928     \n",
            "_________________________________________________________________\n",
            "max_pooling2d_23 (MaxPooling (None, 7, 7, 64)          0         \n",
            "_________________________________________________________________\n",
            "dropout_16 (Dropout)         (None, 7, 7, 64)          0         \n",
            "_________________________________________________________________\n",
            "flatten_13 (Flatten)         (None, 3136)              0         \n",
            "_________________________________________________________________\n",
            "dense_25 (Dense)             (None, 24)                75288     \n",
            "_________________________________________________________________\n",
            "dropout_17 (Dropout)         (None, 24)                0         \n",
            "_________________________________________________________________\n",
            "dense_26 (Dense)             (None, 5)                 125       \n",
            "=================================================================\n",
            "Total params: 168,661\n",
            "Trainable params: 168,661\n",
            "Non-trainable params: 0\n",
            "_________________________________________________________________\n"
          ],
          "name": "stdout"
        }
      ]
    },
    {
      "cell_type": "code",
      "metadata": {
        "id": "14JBZdh-spbq",
        "colab_type": "code",
        "outputId": "5718bcd6-7ead-45bc-8fdb-4ba39d997b94",
        "cellView": "code",
        "colab": {
          "base_uri": "https://localhost:8080/",
          "height": 51
        }
      },
      "source": [
        "\n",
        "######## Creating the generator for input to the model #########\n",
        "\n",
        "bs = 32 # batch size\n",
        "\n",
        "TRAINING_DIR = \"/content/gdrive/My Drive/Challenge/Training_Set\"\n",
        "train_datagen = ImageDataGenerator(rescale=1.0/255,\n",
        "                                  #  rotation_range=20,\n",
        "                                   width_shift_range=0.2,\n",
        "                                   height_shift_range=0.2,\n",
        "                                   shear_range=0.2,\n",
        "                                   zoom_range=0.2,\n",
        "                                    # horizontal_flip=True,\n",
        "                                   fill_mode='nearest')\n",
        "\n",
        "train_generator = train_datagen.flow_from_directory(TRAINING_DIR, \n",
        "                                                    batch_size=bs, \n",
        "                                                    class_mode='categorical', \n",
        "                                                    target_size=(150, 150))\n",
        "\n",
        "\n",
        "VALIDATION_DIR = \"/content/gdrive/My Drive/Challenge/Validation_Set\"\n",
        "validation_datagen = ImageDataGenerator(rescale=1.0/255)\n",
        "#                                    rotation_range=40,\n",
        "# #                                    width_shift_range=0.2,\n",
        "# #                                    height_shift_range=0.2,\n",
        "# #                                    shear_range=0.2,\n",
        "#                                    zoom_range=0.2,\n",
        "#                                    horizontal_flip=False,\n",
        "#                                    fill_mode='nearest')\n",
        "\n",
        "validation_generator = validation_datagen.flow_from_directory(VALIDATION_DIR, \n",
        "                                                    batch_size=bs, \n",
        "                                                    class_mode='categorical', \n",
        "                                                    target_size=(150, 150))"
      ],
      "execution_count": 0,
      "outputs": [
        {
          "output_type": "stream",
          "text": [
            "Found 3732 images belonging to 5 classes.\n",
            "Found 936 images belonging to 5 classes.\n"
          ],
          "name": "stdout"
        }
      ]
    },
    {
      "cell_type": "code",
      "metadata": {
        "id": "YOerPfBlrq8c",
        "colab_type": "code",
        "outputId": "c938c689-d716-42db-dd8f-fe29a6f6f6f2",
        "colab": {
          "base_uri": "https://localhost:8080/",
          "height": 1000
        }
      },
      "source": [
        "history = model.fit_generator(train_generator,\n",
        "                              epochs=100,\n",
        "                              verbose=1,\n",
        "#                             steps_per_epoch = 100,\n",
        "                              validation_data=validation_generator,\n",
        "                             validation_steps = 50)"
      ],
      "execution_count": 0,
      "outputs": [
        {
          "output_type": "stream",
          "text": [
            "Epoch 1/100\n",
            "117/117 [==============================] - 57s 484ms/step - loss: 1.5922 - accuracy: 0.2398 - val_loss: 1.5530 - val_accuracy: 0.2919\n",
            "Epoch 2/100\n",
            "117/117 [==============================] - 52s 446ms/step - loss: 1.5287 - accuracy: 0.2974 - val_loss: 1.5290 - val_accuracy: 0.3009\n",
            "Epoch 3/100\n",
            "117/117 [==============================] - 52s 446ms/step - loss: 1.5014 - accuracy: 0.3100 - val_loss: 1.5370 - val_accuracy: 0.3151\n",
            "Epoch 4/100\n",
            "117/117 [==============================] - 52s 446ms/step - loss: 1.4888 - accuracy: 0.3205 - val_loss: 1.5691 - val_accuracy: 0.3160\n",
            "Epoch 5/100\n",
            "117/117 [==============================] - 53s 451ms/step - loss: 1.4887 - accuracy: 0.3223 - val_loss: 1.5642 - val_accuracy: 0.3718\n",
            "Epoch 6/100\n",
            "117/117 [==============================] - 52s 446ms/step - loss: 1.4729 - accuracy: 0.3191 - val_loss: 1.7116 - val_accuracy: 0.3756\n",
            "Epoch 7/100\n",
            "117/117 [==============================] - 52s 447ms/step - loss: 1.4669 - accuracy: 0.3298 - val_loss: 1.4519 - val_accuracy: 0.3344\n",
            "Epoch 8/100\n",
            "117/117 [==============================] - 52s 448ms/step - loss: 1.4550 - accuracy: 0.3315 - val_loss: 1.2772 - val_accuracy: 0.3756\n",
            "Epoch 9/100\n",
            "117/117 [==============================] - 52s 446ms/step - loss: 1.4456 - accuracy: 0.3336 - val_loss: 1.3037 - val_accuracy: 0.3441\n",
            "Epoch 10/100\n",
            "117/117 [==============================] - 52s 444ms/step - loss: 1.4464 - accuracy: 0.3325 - val_loss: 1.4711 - val_accuracy: 0.3591\n",
            "Epoch 11/100\n",
            "117/117 [==============================] - 52s 449ms/step - loss: 1.4350 - accuracy: 0.3376 - val_loss: 1.2192 - val_accuracy: 0.3454\n",
            "Epoch 12/100\n",
            "117/117 [==============================] - 52s 444ms/step - loss: 1.4233 - accuracy: 0.3408 - val_loss: 1.2986 - val_accuracy: 0.3505\n",
            "Epoch 13/100\n",
            "117/117 [==============================] - 52s 446ms/step - loss: 1.4276 - accuracy: 0.3516 - val_loss: 1.2951 - val_accuracy: 0.3750\n",
            "Epoch 14/100\n",
            "117/117 [==============================] - 52s 447ms/step - loss: 1.4058 - accuracy: 0.3438 - val_loss: 1.4804 - val_accuracy: 0.3679\n",
            "Epoch 15/100\n",
            "117/117 [==============================] - 52s 443ms/step - loss: 1.4173 - accuracy: 0.3529 - val_loss: 1.4359 - val_accuracy: 0.3827\n",
            "Epoch 16/100\n",
            "117/117 [==============================] - 52s 443ms/step - loss: 1.4057 - accuracy: 0.3556 - val_loss: 1.4760 - val_accuracy: 0.3731\n",
            "Epoch 17/100\n",
            "117/117 [==============================] - 52s 448ms/step - loss: 1.3936 - accuracy: 0.3599 - val_loss: 1.7530 - val_accuracy: 0.3950\n",
            "Epoch 18/100\n",
            "117/117 [==============================] - 52s 442ms/step - loss: 1.3925 - accuracy: 0.3583 - val_loss: 1.1575 - val_accuracy: 0.3872\n",
            "Epoch 19/100\n",
            "117/117 [==============================] - 52s 443ms/step - loss: 1.3862 - accuracy: 0.3633 - val_loss: 1.4749 - val_accuracy: 0.3718\n",
            "Epoch 20/100\n",
            "117/117 [==============================] - 52s 442ms/step - loss: 1.3697 - accuracy: 0.3631 - val_loss: 1.3966 - val_accuracy: 0.3531\n",
            "Epoch 21/100\n",
            "117/117 [==============================] - 51s 439ms/step - loss: 1.3845 - accuracy: 0.3765 - val_loss: 1.5421 - val_accuracy: 0.3615\n",
            "Epoch 22/100\n",
            "117/117 [==============================] - 52s 445ms/step - loss: 1.3745 - accuracy: 0.3757 - val_loss: 1.2904 - val_accuracy: 0.3953\n",
            "Epoch 23/100\n",
            "117/117 [==============================] - 52s 447ms/step - loss: 1.3627 - accuracy: 0.3773 - val_loss: 1.4643 - val_accuracy: 0.4034\n",
            "Epoch 24/100\n",
            "117/117 [==============================] - 51s 439ms/step - loss: 1.3703 - accuracy: 0.3698 - val_loss: 1.4318 - val_accuracy: 0.3776\n",
            "Epoch 25/100\n",
            "117/117 [==============================] - 52s 444ms/step - loss: 1.3551 - accuracy: 0.3818 - val_loss: 1.3152 - val_accuracy: 0.3928\n",
            "Epoch 26/100\n",
            "117/117 [==============================] - 52s 443ms/step - loss: 1.3528 - accuracy: 0.3679 - val_loss: 1.4379 - val_accuracy: 0.3969\n",
            "Epoch 27/100\n",
            "117/117 [==============================] - 51s 440ms/step - loss: 1.3632 - accuracy: 0.3759 - val_loss: 1.3410 - val_accuracy: 0.3924\n",
            "Epoch 28/100\n",
            "117/117 [==============================] - 52s 442ms/step - loss: 1.3517 - accuracy: 0.3708 - val_loss: 1.2704 - val_accuracy: 0.3832\n",
            "Epoch 29/100\n",
            "117/117 [==============================] - 52s 448ms/step - loss: 1.3407 - accuracy: 0.3810 - val_loss: 1.5286 - val_accuracy: 0.3885\n",
            "Epoch 30/100\n",
            "117/117 [==============================] - 51s 439ms/step - loss: 1.3576 - accuracy: 0.3773 - val_loss: 1.2691 - val_accuracy: 0.3602\n",
            "Epoch 31/100\n",
            "117/117 [==============================] - 52s 444ms/step - loss: 1.3292 - accuracy: 0.3939 - val_loss: 1.1856 - val_accuracy: 0.3756\n",
            "Epoch 32/100\n",
            "117/117 [==============================] - 52s 444ms/step - loss: 1.3241 - accuracy: 0.3832 - val_loss: 1.4757 - val_accuracy: 0.3885\n",
            "Epoch 33/100\n",
            "117/117 [==============================] - 52s 441ms/step - loss: 1.3315 - accuracy: 0.3829 - val_loss: 1.0060 - val_accuracy: 0.3937\n",
            "Epoch 34/100\n",
            "117/117 [==============================] - 52s 442ms/step - loss: 1.3361 - accuracy: 0.3936 - val_loss: 1.5259 - val_accuracy: 0.4029\n",
            "Epoch 35/100\n",
            "117/117 [==============================] - 52s 446ms/step - loss: 1.3266 - accuracy: 0.3840 - val_loss: 1.3955 - val_accuracy: 0.3789\n",
            "Epoch 36/100\n",
            "117/117 [==============================] - 52s 441ms/step - loss: 1.3259 - accuracy: 0.3864 - val_loss: 1.2188 - val_accuracy: 0.3969\n",
            "Epoch 37/100\n",
            "117/117 [==============================] - 52s 446ms/step - loss: 1.3318 - accuracy: 0.3896 - val_loss: 1.3434 - val_accuracy: 0.3813\n",
            "Epoch 38/100\n",
            "117/117 [==============================] - 52s 444ms/step - loss: 1.3257 - accuracy: 0.3767 - val_loss: 1.3843 - val_accuracy: 0.3660\n",
            "Epoch 39/100\n",
            "117/117 [==============================] - 52s 443ms/step - loss: 1.3083 - accuracy: 0.3926 - val_loss: 1.2333 - val_accuracy: 0.4285\n",
            "Epoch 40/100\n",
            "117/117 [==============================] - 52s 442ms/step - loss: 1.3105 - accuracy: 0.3899 - val_loss: 1.2910 - val_accuracy: 0.3947\n",
            "Epoch 41/100\n",
            "117/117 [==============================] - 52s 446ms/step - loss: 1.3149 - accuracy: 0.3984 - val_loss: 1.3340 - val_accuracy: 0.3789\n",
            "Epoch 42/100\n",
            "117/117 [==============================] - 52s 441ms/step - loss: 1.3067 - accuracy: 0.4057 - val_loss: 1.3278 - val_accuracy: 0.4014\n",
            "Epoch 43/100\n",
            "117/117 [==============================] - 52s 444ms/step - loss: 1.2977 - accuracy: 0.3963 - val_loss: 1.3043 - val_accuracy: 0.3921\n",
            "Epoch 44/100\n",
            "117/117 [==============================] - 52s 443ms/step - loss: 1.2909 - accuracy: 0.4094 - val_loss: 1.5675 - val_accuracy: 0.3602\n",
            "Epoch 45/100\n",
            "117/117 [==============================] - 52s 442ms/step - loss: 1.2997 - accuracy: 0.3931 - val_loss: 1.5908 - val_accuracy: 0.3924\n",
            "Epoch 46/100\n",
            "117/117 [==============================] - 52s 442ms/step - loss: 1.2866 - accuracy: 0.4097 - val_loss: 1.2657 - val_accuracy: 0.3864\n",
            "Epoch 47/100\n",
            "117/117 [==============================] - 52s 446ms/step - loss: 1.2858 - accuracy: 0.4094 - val_loss: 1.1764 - val_accuracy: 0.4291\n",
            "Epoch 48/100\n",
            "117/117 [==============================] - 52s 442ms/step - loss: 1.2774 - accuracy: 0.4126 - val_loss: 1.3777 - val_accuracy: 0.3898\n",
            "Epoch 49/100\n",
            "117/117 [==============================] - 52s 443ms/step - loss: 1.2707 - accuracy: 0.4135 - val_loss: 1.2976 - val_accuracy: 0.4093\n",
            "Epoch 50/100\n",
            "117/117 [==============================] - 52s 441ms/step - loss: 1.2715 - accuracy: 0.4282 - val_loss: 1.2628 - val_accuracy: 0.4001\n",
            "Epoch 51/100\n",
            "117/117 [==============================] - 52s 440ms/step - loss: 1.2763 - accuracy: 0.4252 - val_loss: 2.9880 - val_accuracy: 0.4008\n",
            "Epoch 52/100\n",
            "117/117 [==============================] - 51s 440ms/step - loss: 1.2681 - accuracy: 0.4084 - val_loss: 1.1250 - val_accuracy: 0.4105\n",
            "Epoch 53/100\n",
            "117/117 [==============================] - 52s 443ms/step - loss: 1.2656 - accuracy: 0.4242 - val_loss: 1.5608 - val_accuracy: 0.3782\n",
            "Epoch 54/100\n",
            "117/117 [==============================] - 51s 440ms/step - loss: 1.2661 - accuracy: 0.4193 - val_loss: 1.7465 - val_accuracy: 0.3872\n",
            "Epoch 55/100\n",
            "117/117 [==============================] - 52s 441ms/step - loss: 1.2987 - accuracy: 0.4159 - val_loss: 1.4440 - val_accuracy: 0.3775\n",
            "Epoch 56/100\n",
            "117/117 [==============================] - 51s 439ms/step - loss: 1.2561 - accuracy: 0.4210 - val_loss: 1.4821 - val_accuracy: 0.3840\n",
            "Epoch 57/100\n",
            "117/117 [==============================] - 51s 439ms/step - loss: 1.2476 - accuracy: 0.4309 - val_loss: 1.2461 - val_accuracy: 0.4001\n",
            "Epoch 58/100\n",
            "117/117 [==============================] - 51s 437ms/step - loss: 1.2626 - accuracy: 0.4266 - val_loss: 1.3270 - val_accuracy: 0.4080\n",
            "Epoch 59/100\n",
            "117/117 [==============================] - 52s 441ms/step - loss: 1.2403 - accuracy: 0.4277 - val_loss: 1.4945 - val_accuracy: 0.4111\n",
            "Epoch 60/100\n",
            "117/117 [==============================] - 51s 438ms/step - loss: 1.2567 - accuracy: 0.4215 - val_loss: 1.1483 - val_accuracy: 0.3782\n",
            "Epoch 61/100\n",
            "117/117 [==============================] - 51s 438ms/step - loss: 1.2335 - accuracy: 0.4287 - val_loss: 1.7228 - val_accuracy: 0.4023\n",
            "Epoch 62/100\n",
            "117/117 [==============================] - 52s 441ms/step - loss: 1.2381 - accuracy: 0.4244 - val_loss: 1.5398 - val_accuracy: 0.3879\n",
            "Epoch 63/100\n",
            "117/117 [==============================] - 51s 436ms/step - loss: 1.2464 - accuracy: 0.4335 - val_loss: 1.6919 - val_accuracy: 0.3821\n",
            "Epoch 64/100\n",
            "117/117 [==============================] - 51s 436ms/step - loss: 1.2488 - accuracy: 0.4247 - val_loss: 1.3388 - val_accuracy: 0.3737\n",
            "Epoch 65/100\n",
            "117/117 [==============================] - 52s 442ms/step - loss: 1.2469 - accuracy: 0.4287 - val_loss: 1.5635 - val_accuracy: 0.4072\n",
            "Epoch 66/100\n",
            "117/117 [==============================] - 51s 435ms/step - loss: 1.2310 - accuracy: 0.4456 - val_loss: 1.2292 - val_accuracy: 0.3918\n",
            "Epoch 67/100\n",
            "117/117 [==============================] - 51s 438ms/step - loss: 1.2237 - accuracy: 0.4317 - val_loss: 1.5871 - val_accuracy: 0.4042\n",
            "Epoch 68/100\n",
            "117/117 [==============================] - 51s 437ms/step - loss: 1.2235 - accuracy: 0.4394 - val_loss: 1.2806 - val_accuracy: 0.3769\n",
            "Epoch 69/100\n",
            "117/117 [==============================] - 51s 436ms/step - loss: 1.2231 - accuracy: 0.4325 - val_loss: 1.0165 - val_accuracy: 0.3995\n",
            "Epoch 70/100\n",
            "117/117 [==============================] - 51s 436ms/step - loss: 1.2007 - accuracy: 0.4534 - val_loss: 1.2040 - val_accuracy: 0.3782\n",
            "Epoch 71/100\n",
            "117/117 [==============================] - 52s 441ms/step - loss: 1.2260 - accuracy: 0.4421 - val_loss: 1.1761 - val_accuracy: 0.3988\n",
            "Epoch 72/100\n",
            "117/117 [==============================] - 51s 434ms/step - loss: 1.2286 - accuracy: 0.4440 - val_loss: 1.3708 - val_accuracy: 0.3847\n",
            "Epoch 73/100\n",
            "117/117 [==============================] - 51s 438ms/step - loss: 1.2245 - accuracy: 0.4477 - val_loss: 1.0951 - val_accuracy: 0.3864\n",
            "Epoch 74/100\n",
            "117/117 [==============================] - 51s 439ms/step - loss: 1.2198 - accuracy: 0.4480 - val_loss: 1.2223 - val_accuracy: 0.3814\n",
            "Epoch 75/100\n",
            "117/117 [==============================] - 51s 439ms/step - loss: 1.2160 - accuracy: 0.4563 - val_loss: 1.3340 - val_accuracy: 0.3924\n",
            "Epoch 76/100\n",
            "117/117 [==============================] - 52s 440ms/step - loss: 1.1841 - accuracy: 0.4542 - val_loss: 1.1733 - val_accuracy: 0.4118\n",
            "Epoch 77/100\n",
            "117/117 [==============================] - 52s 441ms/step - loss: 1.1828 - accuracy: 0.4558 - val_loss: 1.2994 - val_accuracy: 0.3802\n",
            "Epoch 78/100\n",
            "117/117 [==============================] - 51s 439ms/step - loss: 1.1966 - accuracy: 0.4582 - val_loss: 1.6311 - val_accuracy: 0.4111\n",
            "Epoch 79/100\n",
            "117/117 [==============================] - 51s 438ms/step - loss: 1.1824 - accuracy: 0.4609 - val_loss: 1.4145 - val_accuracy: 0.4036\n",
            "Epoch 80/100\n",
            "117/117 [==============================] - 51s 436ms/step - loss: 1.1825 - accuracy: 0.4636 - val_loss: 1.5572 - val_accuracy: 0.3860\n",
            "Epoch 81/100\n",
            "117/117 [==============================] - 51s 438ms/step - loss: 1.1900 - accuracy: 0.4625 - val_loss: 0.9967 - val_accuracy: 0.3950\n",
            "Epoch 82/100\n",
            "117/117 [==============================] - 51s 436ms/step - loss: 1.1765 - accuracy: 0.4670 - val_loss: 1.4594 - val_accuracy: 0.4080\n",
            "Epoch 83/100\n",
            "117/117 [==============================] - 52s 441ms/step - loss: 1.1728 - accuracy: 0.4700 - val_loss: 1.0955 - val_accuracy: 0.3930\n",
            "Epoch 84/100\n",
            "117/117 [==============================] - 51s 437ms/step - loss: 1.1549 - accuracy: 0.4686 - val_loss: 0.6980 - val_accuracy: 0.4021\n",
            "Epoch 85/100\n",
            "117/117 [==============================] - 51s 438ms/step - loss: 1.1766 - accuracy: 0.4732 - val_loss: 1.1189 - val_accuracy: 0.4061\n",
            "Epoch 86/100\n",
            "117/117 [==============================] - 51s 437ms/step - loss: 1.1647 - accuracy: 0.4762 - val_loss: 1.3411 - val_accuracy: 0.3866\n",
            "Epoch 87/100\n",
            "117/117 [==============================] - 51s 435ms/step - loss: 1.1716 - accuracy: 0.4708 - val_loss: 1.1998 - val_accuracy: 0.4169\n",
            "Epoch 88/100\n",
            "117/117 [==============================] - 51s 436ms/step - loss: 1.1605 - accuracy: 0.4686 - val_loss: 2.1192 - val_accuracy: 0.3725\n",
            "Epoch 89/100\n",
            "117/117 [==============================] - 52s 442ms/step - loss: 1.1559 - accuracy: 0.4684 - val_loss: 1.7408 - val_accuracy: 0.4117\n",
            "Epoch 90/100\n",
            "117/117 [==============================] - 51s 438ms/step - loss: 1.1372 - accuracy: 0.4791 - val_loss: 0.8031 - val_accuracy: 0.4027\n",
            "Epoch 91/100\n",
            "117/117 [==============================] - 51s 436ms/step - loss: 1.1253 - accuracy: 0.4837 - val_loss: 1.2735 - val_accuracy: 0.4169\n",
            "Epoch 92/100\n",
            "117/117 [==============================] - 52s 442ms/step - loss: 1.1405 - accuracy: 0.4815 - val_loss: 1.0985 - val_accuracy: 0.4072\n",
            "Epoch 93/100\n",
            "117/117 [==============================] - 51s 440ms/step - loss: 1.1094 - accuracy: 0.5013 - val_loss: 1.1605 - val_accuracy: 0.3976\n",
            "Epoch 94/100\n",
            "117/117 [==============================] - 51s 439ms/step - loss: 1.1422 - accuracy: 0.4788 - val_loss: 2.0423 - val_accuracy: 0.3959\n",
            "Epoch 95/100\n",
            "117/117 [==============================] - 52s 445ms/step - loss: 1.1275 - accuracy: 0.4863 - val_loss: 1.0503 - val_accuracy: 0.3924\n",
            "Epoch 96/100\n",
            "117/117 [==============================] - 51s 437ms/step - loss: 1.1302 - accuracy: 0.4979 - val_loss: 1.5318 - val_accuracy: 0.3982\n",
            "Epoch 97/100\n",
            "117/117 [==============================] - 51s 438ms/step - loss: 1.1222 - accuracy: 0.4853 - val_loss: 1.4968 - val_accuracy: 0.4213\n",
            "Epoch 98/100\n",
            "117/117 [==============================] - 51s 439ms/step - loss: 1.1230 - accuracy: 0.4887 - val_loss: 0.8953 - val_accuracy: 0.4439\n",
            "Epoch 99/100\n",
            "117/117 [==============================] - 51s 435ms/step - loss: 1.1149 - accuracy: 0.5056 - val_loss: 1.5718 - val_accuracy: 0.3988\n",
            "Epoch 100/100\n",
            "117/117 [==============================] - 51s 439ms/step - loss: 1.1007 - accuracy: 0.5070 - val_loss: 1.3479 - val_accuracy: 0.4074\n"
          ],
          "name": "stdout"
        }
      ]
    },
    {
      "cell_type": "code",
      "metadata": {
        "id": "QCLGx9xuszkT",
        "colab_type": "code",
        "outputId": "4fc819fc-ccad-4b19-c043-6c5b9bd9d854",
        "colab": {
          "base_uri": "https://localhost:8080/",
          "height": 232
        }
      },
      "source": [
        "######### Graph - Training vs Validation accuracy per epoch\n",
        "plt.plot(history.history['accuracy'], label='accuracy')\n",
        "plt.plot(history.history['val_accuracy'], label = 'val_accuracy')\n",
        "plt.title('Training vs Validation accuracy')\n",
        "plt.xlabel('Epochs')\n",
        "plt.ylabel('Accuracy')\n",
        "plt.grid(True)\n",
        "plt.legend(loc='lower right')"
      ],
      "execution_count": 0,
      "outputs": [
        {
          "output_type": "error",
          "ename": "NameError",
          "evalue": "ignored",
          "traceback": [
            "\u001b[0;31m---------------------------------------------------------------------------\u001b[0m",
            "\u001b[0;31mNameError\u001b[0m                                 Traceback (most recent call last)",
            "\u001b[0;32m<ipython-input-1-0c58b0888bcc>\u001b[0m in \u001b[0;36m<module>\u001b[0;34m()\u001b[0m\n\u001b[1;32m      1\u001b[0m \u001b[0;31m######### Graph - Training vs Validation accuracy per epoch\u001b[0m\u001b[0;34m\u001b[0m\u001b[0;34m\u001b[0m\u001b[0;34m\u001b[0m\u001b[0m\n\u001b[0;32m----> 2\u001b[0;31m \u001b[0mplt\u001b[0m\u001b[0;34m.\u001b[0m\u001b[0mplot\u001b[0m\u001b[0;34m(\u001b[0m\u001b[0mhistory\u001b[0m\u001b[0;34m.\u001b[0m\u001b[0mhistory\u001b[0m\u001b[0;34m[\u001b[0m\u001b[0;34m'accuracy'\u001b[0m\u001b[0;34m]\u001b[0m\u001b[0;34m,\u001b[0m \u001b[0mlabel\u001b[0m\u001b[0;34m=\u001b[0m\u001b[0;34m'accuracy'\u001b[0m\u001b[0;34m)\u001b[0m\u001b[0;34m\u001b[0m\u001b[0;34m\u001b[0m\u001b[0m\n\u001b[0m\u001b[1;32m      3\u001b[0m \u001b[0mplt\u001b[0m\u001b[0;34m.\u001b[0m\u001b[0mplot\u001b[0m\u001b[0;34m(\u001b[0m\u001b[0mhistory\u001b[0m\u001b[0;34m.\u001b[0m\u001b[0mhistory\u001b[0m\u001b[0;34m[\u001b[0m\u001b[0;34m'val_accuracy'\u001b[0m\u001b[0;34m]\u001b[0m\u001b[0;34m,\u001b[0m \u001b[0mlabel\u001b[0m \u001b[0;34m=\u001b[0m \u001b[0;34m'val_accuracy'\u001b[0m\u001b[0;34m)\u001b[0m\u001b[0;34m\u001b[0m\u001b[0;34m\u001b[0m\u001b[0m\n\u001b[1;32m      4\u001b[0m \u001b[0mplt\u001b[0m\u001b[0;34m.\u001b[0m\u001b[0mtitle\u001b[0m\u001b[0;34m(\u001b[0m\u001b[0;34m'Training vs Validation accuracy'\u001b[0m\u001b[0;34m)\u001b[0m\u001b[0;34m\u001b[0m\u001b[0;34m\u001b[0m\u001b[0m\n\u001b[1;32m      5\u001b[0m \u001b[0mplt\u001b[0m\u001b[0;34m.\u001b[0m\u001b[0mxlabel\u001b[0m\u001b[0;34m(\u001b[0m\u001b[0;34m'Epochs'\u001b[0m\u001b[0;34m)\u001b[0m\u001b[0;34m\u001b[0m\u001b[0;34m\u001b[0m\u001b[0m\n",
            "\u001b[0;31mNameError\u001b[0m: name 'plt' is not defined"
          ]
        }
      ]
    },
    {
      "cell_type": "code",
      "metadata": {
        "id": "teB_qi0Is8Kp",
        "colab_type": "code",
        "outputId": "667cf314-64ba-488a-bc23-201c66f387af",
        "colab": {
          "base_uri": "https://localhost:8080/",
          "height": 312
        }
      },
      "source": [
        "########## Graph - Training vs Validation loss per epoch\n",
        "plt.plot(history.history['loss'], label = \"Training Loss\")\n",
        "plt.plot(history.history['val_loss'], label = \"Validation Loss\")\n",
        "plt.title('Training vs Validation loss')\n",
        "plt.xlabel('Epochs')\n",
        "plt.ylabel('Loss')\n",
        "plt.grid(True)\n",
        "plt.legend(loc='lower left')"
      ],
      "execution_count": 0,
      "outputs": [
        {
          "output_type": "execute_result",
          "data": {
            "text/plain": [
              "<matplotlib.legend.Legend at 0x7fe006497710>"
            ]
          },
          "metadata": {
            "tags": []
          },
          "execution_count": 87
        },
        {
          "output_type": "display_data",
          "data": {
            "image/png": "[encoded data removed]",
            "text/plain": [
              "<Figure size 432x288 with 1 Axes>"
            ]
          },
          "metadata": {
            "tags": [],
            "needs_background": "light"
          }
        }
      ]
    },
    {
      "cell_type": "code",
      "metadata": {
        "id": "4IxYErsJ0_oW",
        "colab_type": "code",
        "colab": {}
      },
      "source": [
        "####### Confusion Matrix #########\n",
        "\n",
        "from sklearn.metrics import confusion_matrix\n",
        "from sklearn.metrics import classification_report\n",
        "\n",
        "\n",
        "Y_pred = model.predict_generator(validation_generator, total_validation_file // bs+1)\n",
        "\n",
        "y_pred = np.argmax(Y_pred, axis=1)\n",
        "\n",
        "cm = confusion_matrix(validation_generator.classes, y_pred)\n",
        "\n"
      ],
      "execution_count": 0,
      "outputs": []
    },
    {
      "cell_type": "code",
      "metadata": {
        "id": "VAA6aw558Jyq",
        "colab_type": "code",
        "colab": {}
      },
      "source": [
        "# fig = plt.figure()\n",
        "# ax = fig.add_subplot(111)\n",
        "# cax = ax.matshow(cm)\n",
        "# plt.title('Confusion matrix of the classifier\\n')\n",
        "# fig.colorbar(cax)\n",
        "# plt.xlabel('Predicted')\n",
        "# plt.ylabel('True')\n",
        "# plt.show()"
      ],
      "execution_count": 0,
      "outputs": []
    },
    {
      "cell_type": "code",
      "metadata": {
        "id": "r3xzmEwd8_qA",
        "colab_type": "code",
        "outputId": "386c0454-4f6b-45a8-fe9f-b61f0fc439a1",
        "colab": {
          "base_uri": "https://localhost:8080/",
          "height": 295
        }
      },
      "source": [
        "import seaborn as sns\n",
        "import matplotlib.pyplot as plt     \n",
        "\n",
        "ax= plt.subplot()\n",
        "sns.heatmap(cm, annot=True, ax = ax, square = True, cmap=\"Blues\" , linecolor= \"white\", linewidths= '1');\n",
        "\n",
        "ax.set_xlabel('Predicted labels');\n",
        "ax.set_ylabel('True labels'); \n",
        "ax.set_title('Confusion Matrix'); "
      ],
      "execution_count": 0,
      "outputs": [
        {
          "output_type": "display_data",
          "data": {
            "image/png": "[encoded data removed]",
            "text/plain": [
              "<Figure size 432x288 with 2 Axes>"
            ]
          },
          "metadata": {
            "tags": [],
            "needs_background": "light"
          }
        }
      ]
    },
    {
      "cell_type": "code",
      "metadata": {
        "id": "Ji2NTR7QEFz4",
        "colab_type": "code",
        "outputId": "10e5b696-6c62-4595-a2b0-c064838326aa",
        "colab": {
          "base_uri": "https://localhost:8080/",
          "height": 255
        }
      },
      "source": [
        "class_labels = ['class_0', 'class_1', 'class_2','class_3','class_4']\n",
        "clasy_rep= classification_report(validation_generator.classes, y_pred, target_names= class_labels)\n",
        "\n",
        "print('Classification Report:\\n')\n",
        "print(clasy_rep)"
      ],
      "execution_count": 0,
      "outputs": [
        {
          "output_type": "stream",
          "text": [
            "Classification Report:\n",
            "\n",
            "              precision    recall  f1-score   support\n",
            "\n",
            "     class_0       0.15      0.18      0.16       159\n",
            "     class_1       0.17      0.20      0.19       172\n",
            "     class_2       0.19      0.19      0.19       186\n",
            "     class_3       0.18      0.09      0.12       198\n",
            "     class_4       0.27      0.32      0.29       221\n",
            "\n",
            "    accuracy                           0.20       936\n",
            "   macro avg       0.19      0.19      0.19       936\n",
            "weighted avg       0.20      0.20      0.19       936\n",
            "\n"
          ],
          "name": "stdout"
        }
      ]
    }
  ]
}